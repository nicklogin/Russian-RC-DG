{
 "cells": [
  {
   "cell_type": "code",
   "execution_count": 1,
   "id": "a112ccb3-a799-4ae3-9e50-f33c495cc737",
   "metadata": {},
   "outputs": [],
   "source": [
    "import re, json\n",
    "\n",
    "from typing import Union, Any\n",
    "from math import ceil\n",
    "\n",
    "import evaluate\n",
    "import torch as tt\n",
    "import pandas as pd\n",
    "\n",
    "from transformers import AutoTokenizer, AutoModelForCausalLM\n",
    "from transformers import PreTrainedModel, PreTrainedTokenizer\n",
    "from transformers import TrainingArguments, Trainer, DataCollatorForLanguageModeling\n",
    "from datasets import Dataset\n",
    "from tqdm import tqdm_notebook"
   ]
  },
  {
   "cell_type": "code",
   "execution_count": 2,
   "id": "d94536bd-2527-4313-9b7f-0bd3423d8c2c",
   "metadata": {},
   "outputs": [
    {
     "name": "stderr",
     "output_type": "stream",
     "text": [
      "[nltk_data] Downloading package wordnet to /home/user/nltk_data...\n",
      "[nltk_data]   Package wordnet is already up-to-date!\n",
      "[nltk_data] Downloading package punkt to /home/user/nltk_data...\n",
      "[nltk_data]   Package punkt is already up-to-date!\n",
      "[nltk_data] Downloading package omw-1.4 to /home/user/nltk_data...\n",
      "[nltk_data]   Package omw-1.4 is already up-to-date!\n"
     ]
    }
   ],
   "source": [
    "# models:\n",
    "tokenizer = AutoTokenizer.from_pretrained(\"ai-forever/rugpt3small_based_on_gpt2\")\n",
    "model_best = AutoModelForCausalLM.from_pretrained(\"Ru-RACE-title-best\").to(tt.device(\"cuda:0\"))\n",
    "model_last = AutoModelForCausalLM.from_pretrained(\"RuGPT3-RuRACE/checkpoint-87500\").to(tt.device(\"cuda:0\"))\n",
    "tokenizer.pad_token = tokenizer.eos_token\n",
    "\n",
    "# metrics:\n",
    "bleu4 = evaluate.load(\"bleu\")\n",
    "sbleu = evaluate.load(\"sacrebleu\")\n",
    "rouge = evaluate.load(\"rouge\")\n",
    "meteor = evaluate.load(\"meteor\")"
   ]
  },
  {
   "cell_type": "code",
   "execution_count": 3,
   "id": "d515c0d8-845c-4bce-920c-f4b1b741d250",
   "metadata": {},
   "outputs": [
    {
     "data": {
      "application/vnd.jupyter.widget-view+json": {
       "model_id": "0632613272c64da7bfe4927d2f4f521c",
       "version_major": 2,
       "version_minor": 0
      },
      "text/plain": [
       "Map:   0%|          | 0/4375 [00:00<?, ? examples/s]"
      ]
     },
     "metadata": {},
     "output_type": "display_data"
    },
    {
     "data": {
      "application/vnd.jupyter.widget-view+json": {
       "model_id": "71bb26de9b524f45b493bb6613952135",
       "version_major": 2,
       "version_minor": 0
      },
      "text/plain": [
       "Map:   0%|          | 0/219 [00:00<?, ? examples/s]"
      ]
     },
     "metadata": {},
     "output_type": "display_data"
    },
    {
     "data": {
      "application/vnd.jupyter.widget-view+json": {
       "model_id": "48ed6b146b65498ebe00ba5585b8b50c",
       "version_major": 2,
       "version_minor": 0
      },
      "text/plain": [
       "Map:   0%|          | 0/242 [00:00<?, ? examples/s]"
      ]
     },
     "metadata": {},
     "output_type": "display_data"
    }
   ],
   "source": [
    "with open(\"title_dataset_pretty_filtered.json\", 'r', encoding=\"utf8\") as inp:\n",
    "    title_dataset = json.load(inp)\n",
    "\n",
    "title_dataset_train, title_dataset_val, title_dataset_test = title_dataset[\"train\"], title_dataset[\"val\"], title_dataset[\"test\"]\n",
    "title_dataset_train = Dataset.from_list(title_dataset_train)\n",
    "title_dataset_val = Dataset.from_list(title_dataset_val)\n",
    "title_dataset_test = Dataset.from_list(title_dataset_test)\n",
    "\n",
    "option_id_dict = {\n",
    "    'A': 0, 'B': 1, 'C': 2, 'D': 3\n",
    "}\n",
    "\n",
    "def to_new_format(example: dict[str, Union[str, list[str]]]) -> str:\n",
    "  example[\"options_ru\"] = [option for option in example[\"options_ru\"] if option]\n",
    "  right_answer = example['options_ru'][option_id_dict[example['answer']]]\n",
    "  #print(right_answer)\n",
    "  outp = example['article_ru'] + \"\\n\" + \"ВОПРОС: Какое название лучше всего подойдёт для этого текста? \"\n",
    "  outp += f\"ПРАВИЛЬНЫЙ ОТВЕТ: {right_answer}\"\n",
    "  outp += \"\\nНЕПРАВИЛЬНЫЕ ВАРИАНТЫ ОТВЕТА:\"\n",
    "  inp = outp\n",
    "\n",
    "  distractors = ''\n",
    "  for option in example[\"options_ru\"]:\n",
    "      if option != right_answer:\n",
    "          #print(option)\n",
    "          outp += f\"\\n  {option}\"\n",
    "          distractors += f\"\\n  {option}\"\n",
    "  #print(outp)\n",
    "  #raise Exception\n",
    "  return {\"inp\": inp, \"outp_expected\": outp, \"distractors\": distractors,\"right_answer\": right_answer}\n",
    "\n",
    "title_dataset_train = title_dataset_train.map(to_new_format)\n",
    "title_dataset_val = title_dataset_val.map(to_new_format)\n",
    "title_dataset_test = title_dataset_test.map(to_new_format)"
   ]
  },
  {
   "cell_type": "code",
   "execution_count": 4,
   "id": "68f69a70-9ec5-43cb-8176-fe78f4cda354",
   "metadata": {},
   "outputs": [],
   "source": [
    "def cut_last_break(input_: list[str]) -> list[str]:\n",
    "    output = [s[:s.rfind('\\n')] for s in input_]\n",
    "    return output\n",
    "\n",
    "def parse_options(input_: list[str]) -> list[str]:\n",
    "    output = [s.strip() for s in input_]\n",
    "    output = [set(option.strip() for option in s.split('\\n')) for s in output]\n",
    "    output = [sorted(list(s))[:3] for s in output]\n",
    "    output = ['\\n'.join(s) for s in output]\n",
    "    return output\n",
    "\n",
    "def get_metric_inputs(\n",
    "    input_batch: list[str], label_batch: list[str],\n",
    "    model: PreTrainedModel, tokenizer: PreTrainedTokenizer\n",
    ") -> list[str]:\n",
    "    FACTOR = 1.1\n",
    "\n",
    "    input_batch_ = tokenizer(input_batch, return_tensors=\"pt\", padding=True)[\"input_ids\"].to(tt.device(\"cuda:0\"))\n",
    "    label_batch_ = tokenizer(label_batch, return_tensors=\"pt\", padding=True)[\"input_ids\"]\n",
    "\n",
    "    input_length = input_batch_.shape[-1]\n",
    "    output_length = label_batch_.shape[-1]\n",
    "    \n",
    "    with tt.no_grad():\n",
    "        output_batch = model.generate(input_batch_, max_length=input_length + ceil(output_length * FACTOR))\n",
    "        output_batch = output_batch[:,input_length:]\n",
    "\n",
    "    output = tokenizer.batch_decode(output_batch)\n",
    "    del input_batch_\n",
    "    del output_batch\n",
    "    del label_batch_\n",
    "    tt.cuda.empty_cache()\n",
    "\n",
    "    output = cut_last_break(output)\n",
    "    output = parse_options(output)\n",
    "\n",
    "    return output\n",
    "\n",
    "def compute_metrics(output: list[str], label_batch: list[str]) -> dict[str, Any]:\n",
    "    metric_dict = {\n",
    "        \"bleu\": bleu4.compute(predictions=output, references=[[label] for label in label_batch]),\n",
    "        \"sbleu\": sbleu.compute(predictions=output, references=[[label] for label in label_batch]),\n",
    "        \"rouge\": rouge.compute(predictions=output, references=label_batch),\n",
    "        \"meteor\": meteor.compute(predictions=output, references=label_batch)\n",
    "    }\n",
    "    return metric_dict"
   ]
  },
  {
   "cell_type": "code",
   "execution_count": 5,
   "id": "930afc0d-3a89-4990-a217-c5ae6e3a765b",
   "metadata": {},
   "outputs": [],
   "source": [
    "BATCH_SIZE = 4\n",
    "input_batch = title_dataset_test[\"inp\"][:BATCH_SIZE]\n",
    "label_batch = title_dataset_test[\"distractors\"][:BATCH_SIZE]\n",
    "rans_batch = title_dataset_test[\"right_answer\"][:BATCH_SIZE]"
   ]
  },
  {
   "cell_type": "code",
   "execution_count": 6,
   "id": "a1f4b58e-c71c-4dfa-a20f-4ac462e825e6",
   "metadata": {},
   "outputs": [
    {
     "data": {
      "text/plain": [
       "['\\n  Формы сложных слов.\\n  Как пользоваться смешающими словами.\\n  Водонепроницаемый Клот в лучшем.',\n",
       " '\\n  Отец Рождество опасен?\\n  Истинная история Святого Николая\\n  Традиции Рождества',\n",
       " '\\n  Истории о некоторых пациентах с гипертонией.\\n  Рассказ может помочь снизить кровяное давление.\\n  Предложения о том, как снизить кровяное давление.',\n",
       " '\\n  Как хорошо проводить время\\n  Благотворительные мероприятия во всем мире\\n  Выступления суперзвезд на благотворительных мероприятиях']"
      ]
     },
     "execution_count": 6,
     "metadata": {},
     "output_type": "execute_result"
    }
   ],
   "source": [
    "label_batch"
   ]
  },
  {
   "cell_type": "code",
   "execution_count": 7,
   "id": "40c02f30-d3b8-4b56-8c2b-0e3b5135f54b",
   "metadata": {},
   "outputs": [
    {
     "data": {
      "text/plain": [
       "['Водонепроницаемый Клот в лучшем.\\nКак пользоваться смешающими словами.\\nФормы сложных слов.',\n",
       " 'Истинная история Святого Николая\\nОтец Рождество опасен?\\nТрадиции Рождества',\n",
       " 'Истории о некоторых пациентах с гипертонией.\\nПредложения о том, как снизить кровяное давление.\\nРассказ может помочь снизить кровяное давление.',\n",
       " 'Благотворительные мероприятия во всем мире\\nВыступления суперзвезд на благотворительных мероприятиях\\nКак хорошо проводить время']"
      ]
     },
     "execution_count": 7,
     "metadata": {},
     "output_type": "execute_result"
    }
   ],
   "source": [
    "parse_options(label_batch)"
   ]
  },
  {
   "cell_type": "code",
   "execution_count": 8,
   "id": "cc86b364-9e8b-4964-a7e2-4ee6f0551734",
   "metadata": {},
   "outputs": [
    {
     "data": {
      "text/plain": [
       "['Связанные слова в повседневной жизни',\n",
       " 'Легенда Санта-Клауса',\n",
       " 'Лечение кровяного давления.',\n",
       " 'Фестиваль Гластонбери']"
      ]
     },
     "execution_count": 8,
     "metadata": {},
     "output_type": "execute_result"
    }
   ],
   "source": [
    "rans_batch"
   ]
  },
  {
   "cell_type": "code",
   "execution_count": 9,
   "id": "6860e902-4c5e-404c-bb7e-1832859f7091",
   "metadata": {},
   "outputs": [],
   "source": [
    "output_batch_last = get_metric_inputs(input_batch, label_batch, model_last, tokenizer)"
   ]
  },
  {
   "cell_type": "code",
   "execution_count": 10,
   "id": "60403f30-5e10-4c2f-a341-7309abdd7110",
   "metadata": {},
   "outputs": [
    {
     "data": {
      "text/plain": [
       "['Как хорошо одеваться.\\nСопоставление различных культур в мире.\\nЭмоциональная подпись в нашей жизни',\n",
       " 'Как быть успешным отцом Рождества.\\nОтец Рождество, плохой отец.\\nРождественские традиции',\n",
       " 'Как быть здоровым ребенком.\\nКак изменить количество кровяного давления.\\nКак стать здоровым.',\n",
       " 'Влияние на наблюдателей\\nЭмоциональный ущерб от правления\\nЭмоциональный ущерб от чрезмерного правления.  Добро пожаловать на Гластонбери.']"
      ]
     },
     "execution_count": 10,
     "metadata": {},
     "output_type": "execute_result"
    }
   ],
   "source": [
    "output_batch_last"
   ]
  },
  {
   "cell_type": "code",
   "execution_count": 11,
   "id": "534b803d-bb30-4e43-8424-81dfd2ad574e",
   "metadata": {},
   "outputs": [],
   "source": [
    "output_batch_best = get_metric_inputs(input_batch, label_batch, model_best, tokenizer)"
   ]
  },
  {
   "cell_type": "code",
   "execution_count": 12,
   "id": "94544d65-faaa-4818-98b6-e9700c464fea",
   "metadata": {},
   "outputs": [
    {
     "data": {
      "text/plain": [
       "['Как мы называем человека\\nКак мы называем человека, который плохо одет?',\n",
       " 'Как выбрать рождественский подарок\\nКак выбрать рождественский подарок.',\n",
       " 'Как предотвратить гипертензию.',\n",
       " 'Фестиваль Гластонбери']"
      ]
     },
     "execution_count": 12,
     "metadata": {},
     "output_type": "execute_result"
    }
   ],
   "source": [
    "output_batch_best"
   ]
  },
  {
   "cell_type": "code",
   "execution_count": 13,
   "id": "895e7c12-95a1-4b63-b85b-ecacad00976a",
   "metadata": {},
   "outputs": [
    {
     "name": "stderr",
     "output_type": "stream",
     "text": [
      "/tmp/ipykernel_24609/658123156.py:6: TqdmDeprecationWarning: This function will be removed in tqdm==5.0.0\n",
      "Please use `tqdm.notebook.tqdm` instead of `tqdm.tqdm_notebook`\n",
      "  for i in tqdm_notebook(range(N_STEPS), total=N_STEPS):\n"
     ]
    },
    {
     "data": {
      "application/vnd.jupyter.widget-view+json": {
       "model_id": "dd303e244e8b4240a6c331cedeeaa601",
       "version_major": 2,
       "version_minor": 0
      },
      "text/plain": [
       "  0%|          | 0/243 [00:00<?, ?it/s]"
      ]
     },
     "metadata": {},
     "output_type": "display_data"
    }
   ],
   "source": [
    "BATCH_SIZE = 1\n",
    "N_STEPS = (len(title_dataset_test) // BATCH_SIZE) + 1\n",
    "\n",
    "metrics = []\n",
    "\n",
    "for i in tqdm_notebook(range(N_STEPS), total=N_STEPS):\n",
    "    slice = title_dataset_test[i*BATCH_SIZE:(i+1)*BATCH_SIZE]\n",
    "\n",
    "    if slice[\"inp\"]:\n",
    "        distractors = slice[\"distractors\"]\n",
    "\n",
    "        output_best = get_metric_inputs(slice[\"inp\"], distractors, model_best, tokenizer)\n",
    "        output_last = get_metric_inputs(slice[\"inp\"], distractors, model_last, tokenizer)\n",
    "\n",
    "        distractors = parse_options(distractors)\n",
    "\n",
    "        metrics_best = compute_metrics(output_best, distractors)\n",
    "        metrics_last = compute_metrics(output_last, distractors)\n",
    "\n",
    "        # код далее подходит только для батчей из одиночных примеров (BATCH_SIZE=1):\n",
    "        metrics.append({\n",
    "            \"article\": slice[\"article_ru\"][0],\n",
    "            \"right_answer\": slice[\"right_answer\"][0],\n",
    "            \"distractors\": distractors[0],\n",
    "            \"output_best\": output_best[0],\n",
    "            \"output_last\": output_last[0],\n",
    "\n",
    "            \"bleu_best\": metrics_best[\"bleu\"][\"bleu\"],\n",
    "            \"sbleu_best\": metrics_best[\"sbleu\"][\"score\"],\n",
    "            \"rouge1_best\": metrics_best[\"rouge\"][\"rouge1\"],\n",
    "            \"rouge2_best\": metrics_best[\"rouge\"][\"rouge2\"],\n",
    "            \"rougeL_best\": metrics_best[\"rouge\"][\"rougeL\"],\n",
    "            \"rougeLsum_best\": metrics_best[\"rouge\"][\"rougeLsum\"],\n",
    "            \"meteor_best\": metrics_best[\"meteor\"][\"meteor\"],\n",
    "\n",
    "            \"bleu_last\": metrics_last[\"bleu\"][\"bleu\"],\n",
    "            \"sbleu_last\": metrics_last[\"sbleu\"][\"score\"],\n",
    "            \"rouge1_last\": metrics_last[\"rouge\"][\"rouge1\"],\n",
    "            \"rouge2_last\": metrics_last[\"rouge\"][\"rouge2\"],\n",
    "            \"rougeL_last\": metrics_last[\"rouge\"][\"rougeL\"],\n",
    "            \"rougeLsum_last\": metrics_last[\"rouge\"][\"rougeLsum\"],\n",
    "            \"meteor_last\": metrics_last[\"meteor\"][\"meteor\"]\n",
    "        })"
   ]
  },
  {
   "cell_type": "code",
   "execution_count": 14,
   "id": "2e2d2ed4-b977-4a1c-a09c-7b89dfae81f1",
   "metadata": {},
   "outputs": [],
   "source": [
    "metrics = pd.DataFrame(metrics)"
   ]
  },
  {
   "cell_type": "code",
   "execution_count": 15,
   "id": "19e88020-e7cc-498c-99bf-84f7604b1d7a",
   "metadata": {},
   "outputs": [
    {
     "data": {
      "text/html": [
       "<div>\n",
       "<style scoped>\n",
       "    .dataframe tbody tr th:only-of-type {\n",
       "        vertical-align: middle;\n",
       "    }\n",
       "\n",
       "    .dataframe tbody tr th {\n",
       "        vertical-align: top;\n",
       "    }\n",
       "\n",
       "    .dataframe thead th {\n",
       "        text-align: right;\n",
       "    }\n",
       "</style>\n",
       "<table border=\"1\" class=\"dataframe\">\n",
       "  <thead>\n",
       "    <tr style=\"text-align: right;\">\n",
       "      <th></th>\n",
       "      <th>bleu_best</th>\n",
       "      <th>sbleu_best</th>\n",
       "      <th>rouge1_best</th>\n",
       "      <th>rouge2_best</th>\n",
       "      <th>rougeL_best</th>\n",
       "      <th>rougeLsum_best</th>\n",
       "      <th>meteor_best</th>\n",
       "      <th>bleu_last</th>\n",
       "      <th>sbleu_last</th>\n",
       "      <th>rouge1_last</th>\n",
       "      <th>rouge2_last</th>\n",
       "      <th>rougeL_last</th>\n",
       "      <th>rougeLsum_last</th>\n",
       "      <th>meteor_last</th>\n",
       "    </tr>\n",
       "  </thead>\n",
       "  <tbody>\n",
       "    <tr>\n",
       "      <th>count</th>\n",
       "      <td>242.000000</td>\n",
       "      <td>242.000000</td>\n",
       "      <td>242.000000</td>\n",
       "      <td>242.000000</td>\n",
       "      <td>242.000000</td>\n",
       "      <td>242.000000</td>\n",
       "      <td>242.000000</td>\n",
       "      <td>242.000000</td>\n",
       "      <td>242.000000</td>\n",
       "      <td>242.000000</td>\n",
       "      <td>242.000000</td>\n",
       "      <td>242.000000</td>\n",
       "      <td>242.000000</td>\n",
       "      <td>242.000000</td>\n",
       "    </tr>\n",
       "    <tr>\n",
       "      <th>mean</th>\n",
       "      <td>0.001399</td>\n",
       "      <td>2.476524</td>\n",
       "      <td>0.006198</td>\n",
       "      <td>0.004132</td>\n",
       "      <td>0.006198</td>\n",
       "      <td>0.006198</td>\n",
       "      <td>0.068986</td>\n",
       "      <td>0.016547</td>\n",
       "      <td>4.992121</td>\n",
       "      <td>0.008264</td>\n",
       "      <td>0.001377</td>\n",
       "      <td>0.008264</td>\n",
       "      <td>0.008264</td>\n",
       "      <td>0.110216</td>\n",
       "    </tr>\n",
       "    <tr>\n",
       "      <th>std</th>\n",
       "      <td>0.015892</td>\n",
       "      <td>3.161362</td>\n",
       "      <td>0.071751</td>\n",
       "      <td>0.064282</td>\n",
       "      <td>0.071751</td>\n",
       "      <td>0.071751</td>\n",
       "      <td>0.081558</td>\n",
       "      <td>0.088759</td>\n",
       "      <td>9.190415</td>\n",
       "      <td>0.078457</td>\n",
       "      <td>0.021427</td>\n",
       "      <td>0.078457</td>\n",
       "      <td>0.078457</td>\n",
       "      <td>0.154750</td>\n",
       "    </tr>\n",
       "    <tr>\n",
       "      <th>min</th>\n",
       "      <td>0.000000</td>\n",
       "      <td>0.000000</td>\n",
       "      <td>0.000000</td>\n",
       "      <td>0.000000</td>\n",
       "      <td>0.000000</td>\n",
       "      <td>0.000000</td>\n",
       "      <td>0.000000</td>\n",
       "      <td>0.000000</td>\n",
       "      <td>0.000000</td>\n",
       "      <td>0.000000</td>\n",
       "      <td>0.000000</td>\n",
       "      <td>0.000000</td>\n",
       "      <td>0.000000</td>\n",
       "      <td>0.000000</td>\n",
       "    </tr>\n",
       "    <tr>\n",
       "      <th>25%</th>\n",
       "      <td>0.000000</td>\n",
       "      <td>0.000000</td>\n",
       "      <td>0.000000</td>\n",
       "      <td>0.000000</td>\n",
       "      <td>0.000000</td>\n",
       "      <td>0.000000</td>\n",
       "      <td>0.000000</td>\n",
       "      <td>0.000000</td>\n",
       "      <td>0.000000</td>\n",
       "      <td>0.000000</td>\n",
       "      <td>0.000000</td>\n",
       "      <td>0.000000</td>\n",
       "      <td>0.000000</td>\n",
       "      <td>0.000000</td>\n",
       "    </tr>\n",
       "    <tr>\n",
       "      <th>50%</th>\n",
       "      <td>0.000000</td>\n",
       "      <td>1.878120</td>\n",
       "      <td>0.000000</td>\n",
       "      <td>0.000000</td>\n",
       "      <td>0.000000</td>\n",
       "      <td>0.000000</td>\n",
       "      <td>0.045663</td>\n",
       "      <td>0.000000</td>\n",
       "      <td>2.864804</td>\n",
       "      <td>0.000000</td>\n",
       "      <td>0.000000</td>\n",
       "      <td>0.000000</td>\n",
       "      <td>0.000000</td>\n",
       "      <td>0.054354</td>\n",
       "    </tr>\n",
       "    <tr>\n",
       "      <th>75%</th>\n",
       "      <td>0.000000</td>\n",
       "      <td>3.564187</td>\n",
       "      <td>0.000000</td>\n",
       "      <td>0.000000</td>\n",
       "      <td>0.000000</td>\n",
       "      <td>0.000000</td>\n",
       "      <td>0.094138</td>\n",
       "      <td>0.000000</td>\n",
       "      <td>5.282418</td>\n",
       "      <td>0.000000</td>\n",
       "      <td>0.000000</td>\n",
       "      <td>0.000000</td>\n",
       "      <td>0.000000</td>\n",
       "      <td>0.135432</td>\n",
       "    </tr>\n",
       "    <tr>\n",
       "      <th>max</th>\n",
       "      <td>0.214016</td>\n",
       "      <td>21.401603</td>\n",
       "      <td>1.000000</td>\n",
       "      <td>1.000000</td>\n",
       "      <td>1.000000</td>\n",
       "      <td>1.000000</td>\n",
       "      <td>0.422406</td>\n",
       "      <td>0.912168</td>\n",
       "      <td>91.216791</td>\n",
       "      <td>1.000000</td>\n",
       "      <td>0.333333</td>\n",
       "      <td>1.000000</td>\n",
       "      <td>1.000000</td>\n",
       "      <td>0.991449</td>\n",
       "    </tr>\n",
       "  </tbody>\n",
       "</table>\n",
       "</div>"
      ],
      "text/plain": [
       "        bleu_best  sbleu_best  rouge1_best  rouge2_best  rougeL_best  \\\n",
       "count  242.000000  242.000000   242.000000   242.000000   242.000000   \n",
       "mean     0.001399    2.476524     0.006198     0.004132     0.006198   \n",
       "std      0.015892    3.161362     0.071751     0.064282     0.071751   \n",
       "min      0.000000    0.000000     0.000000     0.000000     0.000000   \n",
       "25%      0.000000    0.000000     0.000000     0.000000     0.000000   \n",
       "50%      0.000000    1.878120     0.000000     0.000000     0.000000   \n",
       "75%      0.000000    3.564187     0.000000     0.000000     0.000000   \n",
       "max      0.214016   21.401603     1.000000     1.000000     1.000000   \n",
       "\n",
       "       rougeLsum_best  meteor_best   bleu_last  sbleu_last  rouge1_last  \\\n",
       "count      242.000000   242.000000  242.000000  242.000000   242.000000   \n",
       "mean         0.006198     0.068986    0.016547    4.992121     0.008264   \n",
       "std          0.071751     0.081558    0.088759    9.190415     0.078457   \n",
       "min          0.000000     0.000000    0.000000    0.000000     0.000000   \n",
       "25%          0.000000     0.000000    0.000000    0.000000     0.000000   \n",
       "50%          0.000000     0.045663    0.000000    2.864804     0.000000   \n",
       "75%          0.000000     0.094138    0.000000    5.282418     0.000000   \n",
       "max          1.000000     0.422406    0.912168   91.216791     1.000000   \n",
       "\n",
       "       rouge2_last  rougeL_last  rougeLsum_last  meteor_last  \n",
       "count   242.000000   242.000000      242.000000   242.000000  \n",
       "mean      0.001377     0.008264        0.008264     0.110216  \n",
       "std       0.021427     0.078457        0.078457     0.154750  \n",
       "min       0.000000     0.000000        0.000000     0.000000  \n",
       "25%       0.000000     0.000000        0.000000     0.000000  \n",
       "50%       0.000000     0.000000        0.000000     0.054354  \n",
       "75%       0.000000     0.000000        0.000000     0.135432  \n",
       "max       0.333333     1.000000        1.000000     0.991449  "
      ]
     },
     "execution_count": 15,
     "metadata": {},
     "output_type": "execute_result"
    }
   ],
   "source": [
    "metrics.describe()"
   ]
  },
  {
   "cell_type": "code",
   "execution_count": 16,
   "id": "b91085e9-8f7e-4b49-a05a-788c4fd7237b",
   "metadata": {},
   "outputs": [],
   "source": [
    "metrics.to_excel(\"RuGPT3Metrics.xlsx\", engine=\"openpyxl\")"
   ]
  },
  {
   "cell_type": "code",
   "execution_count": 17,
   "id": "172bb3ef-1aa9-48e5-9702-50d80110fb54",
   "metadata": {},
   "outputs": [],
   "source": [
    "# def preprocess_dataset_text(text: str) -> str:\n",
    "#     find_str = \"НЕПРАВИЛЬНЫЕ ВАРИАНТЫ ОТВЕТА:\\n\"\n",
    "#     split_id = text.find(find_str)\n",
    "#     split_id += len(find_str)\n",
    "#     return text[:split_id], text[split_id:]\n",
    "\n",
    "# def model_predict(text: str, model: PreTrainedModel, max_length: int=1000) -> str:\n",
    "#     input_ = tokenizer([text], return_tensors=\"pt\")\n",
    "#     try:\n",
    "#         output = model.generate(\n",
    "#             input_[\"input_ids\"].to(tt.device(\"cuda:0\")),\n",
    "#             max_length=max_length\n",
    "#         )\n",
    "#         return tokenizer.batch_decode(output)[0]\n",
    "#     except:\n",
    "#         return \"Max length exceeded\""
   ]
  },
  {
   "cell_type": "code",
   "execution_count": 18,
   "id": "7c22de3f-d947-4ba4-8394-2f5d46611ac7",
   "metadata": {},
   "outputs": [],
   "source": [
    "# len(title_dataset_train), len(title_dataset_val), len(title_dataset_test)"
   ]
  },
  {
   "cell_type": "code",
   "execution_count": 19,
   "id": "4b966dcc-984a-4e0f-8414-cd267602627d",
   "metadata": {},
   "outputs": [],
   "source": [
    "# df_predictions = []"
   ]
  },
  {
   "cell_type": "code",
   "execution_count": 20,
   "id": "20520909-4b7e-4585-b26c-199bbc9e699b",
   "metadata": {},
   "outputs": [],
   "source": [
    "# for item in tqdm_notebook(title_dataset_test, total=len(title_dataset_test)):\n",
    "#     inp, label = preprocess_dataset_text(item[\"inp\"])\n",
    "#     best_model_prediction = model_predict(inp, model_best)\n",
    "#     last_model_prediction = model_predict(inp, model_last)\n",
    "#     df_predictions.append(\n",
    "#         {\n",
    "#             \"input\": inp,\n",
    "#             \"label\": label,\n",
    "#             \"best_model_prediction\": best_model_prediction,\n",
    "#             \"last_model_prediction\": last_model_prediction\n",
    "#         }\n",
    "#     )"
   ]
  },
  {
   "cell_type": "code",
   "execution_count": 21,
   "id": "5be447c7-77c8-4294-aa5e-1f79e6e49a60",
   "metadata": {},
   "outputs": [],
   "source": [
    "# df_predictions = pd.DataFrame(df_predictions)"
   ]
  },
  {
   "cell_type": "code",
   "execution_count": 22,
   "id": "2ea93ce0-29e3-443c-801d-403c98aa1143",
   "metadata": {},
   "outputs": [],
   "source": [
    "# df_predictions.to_csv(\"rugpt3_predictions.csv\")"
   ]
  },
  {
   "cell_type": "code",
   "execution_count": null,
   "id": "84481b34-02af-4a52-a176-b0a5230fd48c",
   "metadata": {},
   "outputs": [],
   "source": []
  }
 ],
 "metadata": {
  "kernelspec": {
   "display_name": "Python 3 (ipykernel)",
   "language": "python",
   "name": "python3"
  },
  "language_info": {
   "codemirror_mode": {
    "name": "ipython",
    "version": 3
   },
   "file_extension": ".py",
   "mimetype": "text/x-python",
   "name": "python",
   "nbconvert_exporter": "python",
   "pygments_lexer": "ipython3",
   "version": "3.10.12"
  }
 },
 "nbformat": 4,
 "nbformat_minor": 5
}
