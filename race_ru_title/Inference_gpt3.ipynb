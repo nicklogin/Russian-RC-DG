{
 "cells": [
  {
   "cell_type": "code",
   "execution_count": 1,
   "id": "a112ccb3-a799-4ae3-9e50-f33c495cc737",
   "metadata": {},
   "outputs": [],
   "source": [
    "import re, json\n",
    "\n",
    "from typing import Union, Any\n",
    "from math import ceil\n",
    "\n",
    "import evaluate\n",
    "import torch as tt\n",
    "import pandas as pd\n",
    "\n",
    "from transformers import AutoTokenizer, AutoModelForCausalLM\n",
    "from transformers import PreTrainedModel, PreTrainedTokenizer\n",
    "from transformers import TrainingArguments, Trainer, DataCollatorForLanguageModeling\n",
    "from datasets import Dataset\n",
    "from tqdm import tqdm_notebook"
   ]
  },
  {
   "cell_type": "code",
   "execution_count": 2,
   "id": "d94536bd-2527-4313-9b7f-0bd3423d8c2c",
   "metadata": {},
   "outputs": [
    {
     "name": "stderr",
     "output_type": "stream",
     "text": [
      "[nltk_data] Downloading package wordnet to /home/user/nltk_data...\n",
      "[nltk_data]   Package wordnet is already up-to-date!\n",
      "[nltk_data] Downloading package punkt to /home/user/nltk_data...\n",
      "[nltk_data]   Package punkt is already up-to-date!\n",
      "[nltk_data] Downloading package omw-1.4 to /home/user/nltk_data...\n",
      "[nltk_data]   Package omw-1.4 is already up-to-date!\n"
     ]
    }
   ],
   "source": [
    "# models:\n",
    "tokenizer = AutoTokenizer.from_pretrained(\"ai-forever/rugpt3small_based_on_gpt2\")\n",
    "model = AutoModelForCausalLM.from_pretrained(\"RuGPT3-RuRACE/checkpoint-87500\").to(tt.device(\"cuda:0\"))\n",
    "tokenizer.pad_token = tokenizer.eos_token\n",
    "\n",
    "# metrics:\n",
    "bleu4 = evaluate.load(\"bleu\")\n",
    "sbleu = evaluate.load(\"sacrebleu\")\n",
    "rouge = evaluate.load(\"rouge\")\n",
    "meteor = evaluate.load(\"meteor\")"
   ]
  },
  {
   "cell_type": "code",
   "execution_count": 3,
   "id": "d515c0d8-845c-4bce-920c-f4b1b741d250",
   "metadata": {},
   "outputs": [
    {
     "data": {
      "application/vnd.jupyter.widget-view+json": {
       "model_id": "b0020ad5ba604702bcabd94c86a1d794",
       "version_major": 2,
       "version_minor": 0
      },
      "text/plain": [
       "Map:   0%|          | 0/4375 [00:00<?, ? examples/s]"
      ]
     },
     "metadata": {},
     "output_type": "display_data"
    },
    {
     "data": {
      "application/vnd.jupyter.widget-view+json": {
       "model_id": "86a8490347da4a9baf44b71ba2d434fb",
       "version_major": 2,
       "version_minor": 0
      },
      "text/plain": [
       "Map:   0%|          | 0/219 [00:00<?, ? examples/s]"
      ]
     },
     "metadata": {},
     "output_type": "display_data"
    },
    {
     "data": {
      "application/vnd.jupyter.widget-view+json": {
       "model_id": "ebfdf34a0a744cafaa3c5024ebbbeef3",
       "version_major": 2,
       "version_minor": 0
      },
      "text/plain": [
       "Map:   0%|          | 0/242 [00:00<?, ? examples/s]"
      ]
     },
     "metadata": {},
     "output_type": "display_data"
    }
   ],
   "source": [
    "with open(\"title_dataset_pretty_filtered.json\", 'r', encoding=\"utf8\") as inp:\n",
    "    title_dataset = json.load(inp)\n",
    "\n",
    "title_dataset_train, title_dataset_val, title_dataset_test = title_dataset[\"train\"], title_dataset[\"val\"], title_dataset[\"test\"]\n",
    "title_dataset_train = Dataset.from_list(title_dataset_train)\n",
    "title_dataset_val = Dataset.from_list(title_dataset_val)\n",
    "title_dataset_test = Dataset.from_list(title_dataset_test)\n",
    "\n",
    "option_id_dict = {\n",
    "    'A': 0, 'B': 1, 'C': 2, 'D': 3\n",
    "}\n",
    "\n",
    "def to_new_format(example: dict[str, Union[str, list[str]]]) -> str:\n",
    "  example[\"options_ru\"] = [option for option in example[\"options_ru\"] if option]\n",
    "  right_answer = example['options_ru'][option_id_dict[example['answer']]]\n",
    "  #print(right_answer)\n",
    "  outp = example['article_ru'] + \"\\n\" + \"ВОПРОС: Какое название лучше всего подойдёт для этого текста? \"\n",
    "  outp += f\"ПРАВИЛЬНЫЙ ОТВЕТ: {right_answer}\"\n",
    "  outp += \"\\nНЕПРАВИЛЬНЫЕ ВАРИАНТЫ ОТВЕТА:\"\n",
    "  inp = outp\n",
    "\n",
    "  distractors = ''\n",
    "  for option in example[\"options_ru\"]:\n",
    "      if option != right_answer:\n",
    "          #print(option)\n",
    "          outp += f\"\\n  {option}\"\n",
    "          distractors += f\"\\n  {option}\"\n",
    "  #print(outp)\n",
    "  #raise Exception\n",
    "  distractors_len = len(tokenizer(distractors)[\"input_ids\"])\n",
    "  return {\"inp\": inp, \"outp_expected\": outp, \"distractors\": distractors,\"right_answer\": right_answer, \"distractors_len\": distractors_len}\n",
    "\n",
    "title_dataset_train = title_dataset_train.map(to_new_format)\n",
    "title_dataset_val = title_dataset_val.map(to_new_format)\n",
    "title_dataset_test = title_dataset_test.map(to_new_format)"
   ]
  },
  {
   "cell_type": "code",
   "execution_count": 4,
   "id": "fb67f9b3-7fbf-4b1d-af0d-bc4d3415a8f9",
   "metadata": {},
   "outputs": [
    {
     "data": {
      "text/plain": [
       "count    4375.000000\n",
       "mean       24.109943\n",
       "std         6.869848\n",
       "min         9.000000\n",
       "25%        19.000000\n",
       "50%        23.000000\n",
       "75%        28.000000\n",
       "max        85.000000\n",
       "dtype: float64"
      ]
     },
     "execution_count": 4,
     "metadata": {},
     "output_type": "execute_result"
    }
   ],
   "source": [
    "distractors_len = pd.Series(title_dataset_train[\"distractors_len\"])\n",
    "distractors_len.describe()"
   ]
  },
  {
   "cell_type": "code",
   "execution_count": 5,
   "id": "14e2f0f7-4e18-46a6-8803-e496655b9d09",
   "metadata": {},
   "outputs": [
    {
     "data": {
      "text/plain": [
       "45.0"
      ]
     },
     "execution_count": 5,
     "metadata": {},
     "output_type": "execute_result"
    }
   ],
   "source": [
    "MAX_OUTPUT_LENGTH = distractors_len.quantile(0.99)\n",
    "MAX_OUTPUT_LENGTH"
   ]
  },
  {
   "cell_type": "code",
   "execution_count": 6,
   "id": "1e4f2a3f-063c-49c0-bf32-0f71ca1f6be3",
   "metadata": {},
   "outputs": [
    {
     "data": {
      "text/plain": [
       "'\\n  Формы сложных слов.\\n  Как пользоваться смешающими словами.\\n  Водонепроницаемый Клот в лучшем.'"
      ]
     },
     "execution_count": 6,
     "metadata": {},
     "output_type": "execute_result"
    }
   ],
   "source": [
    "title_dataset_test[0][\"distractors\"]"
   ]
  },
  {
   "cell_type": "code",
   "execution_count": 7,
   "id": "68f69a70-9ec5-43cb-8176-fe78f4cda354",
   "metadata": {},
   "outputs": [],
   "source": [
    "def cut_last_break(input_: list[str]) -> list[str]:\n",
    "    output = [s[:s.rfind('\\n')] for s in input_]\n",
    "    return output\n",
    "\n",
    "def parse_options(input_: list[str]) -> list[str]:\n",
    "    output = [s.strip() for s in input_]\n",
    "    output = [set(option.strip() for option in s.split('\\n')) for s in output]\n",
    "    output = [sorted(list(s))[:3] for s in output]\n",
    "    output = ['\\n'.join(s) for s in output]\n",
    "    return output\n",
    "\n",
    "def get_metric_inputs(\n",
    "    input_batch: list[str],\n",
    "    model: PreTrainedModel, tokenizer: PreTrainedTokenizer\n",
    ") -> list[str]:\n",
    "\n",
    "    input_batch_ = tokenizer(input_batch, return_tensors=\"pt\", padding=True)[\"input_ids\"].to(tt.device(\"cuda:0\"))\n",
    "\n",
    "    input_length = input_batch_.shape[-1]\n",
    "    \n",
    "    with tt.no_grad():\n",
    "        output_batch = model.generate(input_batch_, max_length=input_length + MAX_OUTPUT_LENGTH)\n",
    "        output_batch = output_batch[:,input_length:]\n",
    "\n",
    "    output = tokenizer.batch_decode(output_batch)\n",
    "    del input_batch_\n",
    "    del output_batch\n",
    "    tt.cuda.empty_cache()\n",
    "\n",
    "    output = cut_last_break(output)\n",
    "    output = parse_options(output)\n",
    "\n",
    "    return output\n",
    "\n",
    "def compute_metrics(output: list[str], label_batch: list[str]) -> dict[str, Any]:\n",
    "    metric_dict = {\n",
    "        \"bleu\": bleu4.compute(predictions=output, references=[[label] for label in label_batch]),\n",
    "        \"sbleu\": sbleu.compute(predictions=output, references=[[label] for label in label_batch]),\n",
    "        \"rouge\": rouge.compute(predictions=output, references=label_batch),\n",
    "        \"meteor\": meteor.compute(predictions=output, references=label_batch)\n",
    "    }\n",
    "    return metric_dict"
   ]
  },
  {
   "cell_type": "code",
   "execution_count": 8,
   "id": "895e7c12-95a1-4b63-b85b-ecacad00976a",
   "metadata": {},
   "outputs": [
    {
     "name": "stderr",
     "output_type": "stream",
     "text": [
      "/tmp/ipykernel_26833/2316394497.py:6: TqdmDeprecationWarning: This function will be removed in tqdm==5.0.0\n",
      "Please use `tqdm.notebook.tqdm` instead of `tqdm.tqdm_notebook`\n",
      "  for i in tqdm_notebook(range(N_STEPS), total=N_STEPS):\n"
     ]
    },
    {
     "data": {
      "application/vnd.jupyter.widget-view+json": {
       "model_id": "173ed969a7984a5eaf4bb2d5e3259f20",
       "version_major": 2,
       "version_minor": 0
      },
      "text/plain": [
       "  0%|          | 0/243 [00:00<?, ?it/s]"
      ]
     },
     "metadata": {},
     "output_type": "display_data"
    }
   ],
   "source": [
    "BATCH_SIZE = 1\n",
    "N_STEPS = (len(title_dataset_test) // BATCH_SIZE) + 1\n",
    "\n",
    "metrics = []\n",
    "\n",
    "for i in tqdm_notebook(range(N_STEPS), total=N_STEPS):\n",
    "    slice = title_dataset_test[i*BATCH_SIZE:(i+1)*BATCH_SIZE]\n",
    "\n",
    "    if slice[\"inp\"]:\n",
    "        output= get_metric_inputs(slice[\"inp\"], model, tokenizer)\n",
    "\n",
    "        distractors = parse_options(slice[\"distractors\"])\n",
    "\n",
    "        metric = compute_metrics(output, distractors)\n",
    "\n",
    "        # код далее подходит только для батчей из одиночных примеров (BATCH_SIZE=1):\n",
    "        metrics.append({\n",
    "            \"article\": slice[\"article_ru\"][0],\n",
    "            \"right_answer\": slice[\"right_answer\"][0],\n",
    "            \"distractors\": distractors[0],\n",
    "            \"output\": output[0],\n",
    "\n",
    "            \"bleu\": metric[\"bleu\"][\"bleu\"],\n",
    "            \"sbleu\": metric[\"sbleu\"][\"score\"],\n",
    "            \"rouge1\": metric[\"rouge\"][\"rouge1\"],\n",
    "            \"rouge2\": metric[\"rouge\"][\"rouge2\"],\n",
    "            \"rougeL\": metric[\"rouge\"][\"rougeL\"],\n",
    "            \"rougeLsum\": metric[\"rouge\"][\"rougeLsum\"],\n",
    "            \"meteor\": metric[\"meteor\"][\"meteor\"],\n",
    "\n",
    "            \"article_orig\": slice[\"article\"][0],\n",
    "            \"question_orig\": slice[\"question\"][0],\n",
    "            \"options_orig\": slice[\"options\"][0],\n",
    "            \"right_answer_orig\": slice[\"answer\"][0]\n",
    "        })"
   ]
  },
  {
   "cell_type": "code",
   "execution_count": 9,
   "id": "2e2d2ed4-b977-4a1c-a09c-7b89dfae81f1",
   "metadata": {},
   "outputs": [],
   "source": [
    "metrics = pd.DataFrame(metrics)"
   ]
  },
  {
   "cell_type": "code",
   "execution_count": 10,
   "id": "19e88020-e7cc-498c-99bf-84f7604b1d7a",
   "metadata": {},
   "outputs": [
    {
     "data": {
      "text/html": [
       "<div>\n",
       "<style scoped>\n",
       "    .dataframe tbody tr th:only-of-type {\n",
       "        vertical-align: middle;\n",
       "    }\n",
       "\n",
       "    .dataframe tbody tr th {\n",
       "        vertical-align: top;\n",
       "    }\n",
       "\n",
       "    .dataframe thead th {\n",
       "        text-align: right;\n",
       "    }\n",
       "</style>\n",
       "<table border=\"1\" class=\"dataframe\">\n",
       "  <thead>\n",
       "    <tr style=\"text-align: right;\">\n",
       "      <th></th>\n",
       "      <th>bleu</th>\n",
       "      <th>sbleu</th>\n",
       "      <th>rouge1</th>\n",
       "      <th>rouge2</th>\n",
       "      <th>rougeL</th>\n",
       "      <th>rougeLsum</th>\n",
       "      <th>meteor</th>\n",
       "    </tr>\n",
       "  </thead>\n",
       "  <tbody>\n",
       "    <tr>\n",
       "      <th>count</th>\n",
       "      <td>242.000000</td>\n",
       "      <td>242.000000</td>\n",
       "      <td>242.000000</td>\n",
       "      <td>242.000000</td>\n",
       "      <td>242.000000</td>\n",
       "      <td>242.000000</td>\n",
       "      <td>242.000000</td>\n",
       "    </tr>\n",
       "    <tr>\n",
       "      <th>mean</th>\n",
       "      <td>0.014218</td>\n",
       "      <td>4.377660</td>\n",
       "      <td>0.006887</td>\n",
       "      <td>0.001377</td>\n",
       "      <td>0.006887</td>\n",
       "      <td>0.006887</td>\n",
       "      <td>0.124145</td>\n",
       "    </tr>\n",
       "    <tr>\n",
       "      <th>std</th>\n",
       "      <td>0.065898</td>\n",
       "      <td>6.639943</td>\n",
       "      <td>0.062219</td>\n",
       "      <td>0.021427</td>\n",
       "      <td>0.062219</td>\n",
       "      <td>0.062219</td>\n",
       "      <td>0.152261</td>\n",
       "    </tr>\n",
       "    <tr>\n",
       "      <th>min</th>\n",
       "      <td>0.000000</td>\n",
       "      <td>0.000000</td>\n",
       "      <td>0.000000</td>\n",
       "      <td>0.000000</td>\n",
       "      <td>0.000000</td>\n",
       "      <td>0.000000</td>\n",
       "      <td>0.000000</td>\n",
       "    </tr>\n",
       "    <tr>\n",
       "      <th>25%</th>\n",
       "      <td>0.000000</td>\n",
       "      <td>1.631767</td>\n",
       "      <td>0.000000</td>\n",
       "      <td>0.000000</td>\n",
       "      <td>0.000000</td>\n",
       "      <td>0.000000</td>\n",
       "      <td>0.030166</td>\n",
       "    </tr>\n",
       "    <tr>\n",
       "      <th>50%</th>\n",
       "      <td>0.000000</td>\n",
       "      <td>2.656677</td>\n",
       "      <td>0.000000</td>\n",
       "      <td>0.000000</td>\n",
       "      <td>0.000000</td>\n",
       "      <td>0.000000</td>\n",
       "      <td>0.072203</td>\n",
       "    </tr>\n",
       "    <tr>\n",
       "      <th>75%</th>\n",
       "      <td>0.000000</td>\n",
       "      <td>4.427210</td>\n",
       "      <td>0.000000</td>\n",
       "      <td>0.000000</td>\n",
       "      <td>0.000000</td>\n",
       "      <td>0.000000</td>\n",
       "      <td>0.153322</td>\n",
       "    </tr>\n",
       "    <tr>\n",
       "      <th>max</th>\n",
       "      <td>0.534826</td>\n",
       "      <td>53.482593</td>\n",
       "      <td>0.666667</td>\n",
       "      <td>0.333333</td>\n",
       "      <td>0.666667</td>\n",
       "      <td>0.666667</td>\n",
       "      <td>0.832022</td>\n",
       "    </tr>\n",
       "  </tbody>\n",
       "</table>\n",
       "</div>"
      ],
      "text/plain": [
       "             bleu       sbleu      rouge1      rouge2      rougeL   rougeLsum  \\\n",
       "count  242.000000  242.000000  242.000000  242.000000  242.000000  242.000000   \n",
       "mean     0.014218    4.377660    0.006887    0.001377    0.006887    0.006887   \n",
       "std      0.065898    6.639943    0.062219    0.021427    0.062219    0.062219   \n",
       "min      0.000000    0.000000    0.000000    0.000000    0.000000    0.000000   \n",
       "25%      0.000000    1.631767    0.000000    0.000000    0.000000    0.000000   \n",
       "50%      0.000000    2.656677    0.000000    0.000000    0.000000    0.000000   \n",
       "75%      0.000000    4.427210    0.000000    0.000000    0.000000    0.000000   \n",
       "max      0.534826   53.482593    0.666667    0.333333    0.666667    0.666667   \n",
       "\n",
       "           meteor  \n",
       "count  242.000000  \n",
       "mean     0.124145  \n",
       "std      0.152261  \n",
       "min      0.000000  \n",
       "25%      0.030166  \n",
       "50%      0.072203  \n",
       "75%      0.153322  \n",
       "max      0.832022  "
      ]
     },
     "execution_count": 10,
     "metadata": {},
     "output_type": "execute_result"
    }
   ],
   "source": [
    "metrics.describe()"
   ]
  },
  {
   "cell_type": "code",
   "execution_count": 11,
   "id": "b91085e9-8f7e-4b49-a05a-788c4fd7237b",
   "metadata": {},
   "outputs": [],
   "source": [
    "metrics.to_excel(\"RuGPT3Metrics-Title.xlsx\", engine=\"openpyxl\")"
   ]
  }
 ],
 "metadata": {
  "kernelspec": {
   "display_name": "Python 3 (ipykernel)",
   "language": "python",
   "name": "python3"
  },
  "language_info": {
   "codemirror_mode": {
    "name": "ipython",
    "version": 3
   },
   "file_extension": ".py",
   "mimetype": "text/x-python",
   "name": "python",
   "nbconvert_exporter": "python",
   "pygments_lexer": "ipython3",
   "version": "3.10.12"
  }
 },
 "nbformat": 4,
 "nbformat_minor": 5
}
