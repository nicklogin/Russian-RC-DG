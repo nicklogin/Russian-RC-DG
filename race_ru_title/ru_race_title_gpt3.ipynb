{
 "cells": [
  {
   "cell_type": "code",
   "execution_count": 1,
   "id": "563c7557-9a7e-46a1-8af2-eb7c8cba0b96",
   "metadata": {},
   "outputs": [],
   "source": [
    "import re, json\n",
    "\n",
    "from typing import Union\n",
    "\n",
    "import torch as tt\n",
    "\n",
    "from transformers import AutoTokenizer, AutoModelForCausalLM\n",
    "from transformers import TrainingArguments, Trainer, DataCollatorForLanguageModeling\n",
    "from transformers import EvalPrediction\n",
    "from datasets import Dataset"
   ]
  },
  {
   "cell_type": "code",
   "execution_count": 2,
   "id": "49ba46d5-9b4d-4bba-a0a8-3ebc93bd8bf0",
   "metadata": {},
   "outputs": [
    {
     "name": "stderr",
     "output_type": "stream",
     "text": [
      "/usr/lib/python3/dist-packages/torch/_utils.py:776: UserWarning: TypedStorage is deprecated. It will be removed in the future and UntypedStorage will be the only storage class. This should only matter to you if you are using storages directly.  To access UntypedStorage directly, use tensor.untyped_storage() instead of tensor.storage()\n",
      "  return self.fget.__get__(instance, owner)()\n"
     ]
    }
   ],
   "source": [
    "tokenizer = AutoTokenizer.from_pretrained(\"ai-forever/rugpt3small_based_on_gpt2\")\n",
    "model = AutoModelForCausalLM.from_pretrained(\"ai-forever/rugpt3small_based_on_gpt2\")\n",
    "tokenizer.pad_token = tokenizer.eos_token"
   ]
  },
  {
   "cell_type": "code",
   "execution_count": 3,
   "id": "638f64a3-5783-41af-920a-e1ff93f56fe9",
   "metadata": {},
   "outputs": [],
   "source": [
    "with open(\"title_dataset_pretty_filtered.json\", 'r', encoding=\"utf8\") as inp:\n",
    "    title_dataset = json.load(inp)"
   ]
  },
  {
   "cell_type": "code",
   "execution_count": 4,
   "id": "747a7bf7-adc5-4111-8733-3685a398b2a2",
   "metadata": {},
   "outputs": [],
   "source": [
    "title_dataset_train, title_dataset_val, title_dataset_test = title_dataset[\"train\"], title_dataset[\"val\"], title_dataset[\"test\"]\n",
    "title_dataset_train = Dataset.from_list(title_dataset_train)\n",
    "title_dataset_val = Dataset.from_list(title_dataset_val)\n",
    "title_dataset_test = Dataset.from_list(title_dataset_test)"
   ]
  },
  {
   "cell_type": "code",
   "execution_count": 5,
   "id": "62f1ac0c-43c2-4457-9d74-9cee8dff94a8",
   "metadata": {},
   "outputs": [
    {
     "data": {
      "text/plain": [
       "(4375, 219, 242)"
      ]
     },
     "execution_count": 5,
     "metadata": {},
     "output_type": "execute_result"
    }
   ],
   "source": [
    "len(title_dataset_train), len(title_dataset_val), len(title_dataset_test)"
   ]
  },
  {
   "cell_type": "code",
   "execution_count": 6,
   "id": "c4236bd9-e915-468c-9d99-cf3fa808e6ff",
   "metadata": {},
   "outputs": [
    {
     "data": {
      "text/plain": [
       "{'A', 'B', 'C', 'D'}"
      ]
     },
     "execution_count": 6,
     "metadata": {},
     "output_type": "execute_result"
    }
   ],
   "source": [
    "set(item[\"answer\"] for item in title_dataset_train)"
   ]
  },
  {
   "cell_type": "code",
   "execution_count": 7,
   "id": "12531e3b-e9e5-450a-a724-65238d0e4bf6",
   "metadata": {},
   "outputs": [
    {
     "data": {
      "text/plain": [
       "{'A', 'B', 'C', 'D'}"
      ]
     },
     "execution_count": 7,
     "metadata": {},
     "output_type": "execute_result"
    }
   ],
   "source": [
    "set(item[\"answer\"] for item in title_dataset_val)"
   ]
  },
  {
   "cell_type": "code",
   "execution_count": 8,
   "id": "a25b6383-267f-4afa-abae-4b9eb57704f9",
   "metadata": {},
   "outputs": [
    {
     "data": {
      "text/plain": [
       "{'A', 'B', 'C', 'D'}"
      ]
     },
     "execution_count": 8,
     "metadata": {},
     "output_type": "execute_result"
    }
   ],
   "source": [
    "set(item[\"answer\"] for item in title_dataset_test)"
   ]
  },
  {
   "cell_type": "code",
   "execution_count": 9,
   "id": "78576440-c7d8-4fac-bb2b-20f1d95d1be5",
   "metadata": {},
   "outputs": [],
   "source": [
    "option_id_dict = {\n",
    "    'A': 0, 'B': 1, 'C': 2, 'D': 3\n",
    "}\n",
    "\n",
    "def to_new_format(example: dict[str, Union[str, list[str]]]) -> str:\n",
    "  example[\"options_ru\"] = [option for option in example[\"options_ru\"] if option]\n",
    "  right_answer = example['options_ru'][option_id_dict[example['answer']]]\n",
    "  #print(right_answer)\n",
    "  outp = example['article_ru'] + \"\\n\" + \"ВОПРОС: Какое название лучше всего подойдёт для этого текста? \"\n",
    "  outp += f\"ПРАВИЛЬНЫЙ ОТВЕТ: {right_answer}\"\n",
    "  outp += \"\\nНЕПРАВИЛЬНЫЕ ВАРИАНТЫ ОТВЕТА:\"\n",
    "  for option in example[\"options_ru\"]:\n",
    "      if option != right_answer:\n",
    "          #print(option)\n",
    "          outp += f\"\\n  {option}\"\n",
    "  #print(outp)\n",
    "  #raise Exception\n",
    "  return {\"inp\": outp}"
   ]
  },
  {
   "cell_type": "code",
   "execution_count": 10,
   "id": "4c5024e5-a2d2-4fc3-8fe0-5dccc617559c",
   "metadata": {},
   "outputs": [
    {
     "data": {
      "application/vnd.jupyter.widget-view+json": {
       "model_id": "51d2979b8c6c445f94d7596e516208bf",
       "version_major": 2,
       "version_minor": 0
      },
      "text/plain": [
       "Map:   0%|          | 0/4375 [00:00<?, ? examples/s]"
      ]
     },
     "metadata": {},
     "output_type": "display_data"
    },
    {
     "data": {
      "application/vnd.jupyter.widget-view+json": {
       "model_id": "bf3d6a583fba4f51b5e9f601569671d3",
       "version_major": 2,
       "version_minor": 0
      },
      "text/plain": [
       "Map:   0%|          | 0/219 [00:00<?, ? examples/s]"
      ]
     },
     "metadata": {},
     "output_type": "display_data"
    },
    {
     "data": {
      "application/vnd.jupyter.widget-view+json": {
       "model_id": "4d7ad5432f4f4a0581caba101a91def9",
       "version_major": 2,
       "version_minor": 0
      },
      "text/plain": [
       "Map:   0%|          | 0/242 [00:00<?, ? examples/s]"
      ]
     },
     "metadata": {},
     "output_type": "display_data"
    }
   ],
   "source": [
    "title_dataset_train = title_dataset_train.map(to_new_format)\n",
    "title_dataset_val = title_dataset_val.map(to_new_format)\n",
    "title_dataset_test = title_dataset_test.map(to_new_format)"
   ]
  },
  {
   "cell_type": "code",
   "execution_count": 11,
   "id": "63a35125-d171-40dd-a079-3af6f4fd4158",
   "metadata": {},
   "outputs": [],
   "source": [
    "def preprocess_function(examples):\n",
    "    model_inputs = tokenizer(\n",
    "        examples[\"inp\"]\n",
    "    )\n",
    "    model_inputs[\"labels\"] = model_inputs[\"input_ids\"].copy()\n",
    "    return model_inputs"
   ]
  },
  {
   "cell_type": "code",
   "execution_count": 12,
   "id": "884bee55-5d77-4b55-b3c7-a3ef694b3306",
   "metadata": {},
   "outputs": [
    {
     "data": {
      "application/vnd.jupyter.widget-view+json": {
       "model_id": "8d812a4288ae44a1b630b05eb22163a9",
       "version_major": 2,
       "version_minor": 0
      },
      "text/plain": [
       "Map:   0%|          | 0/4375 [00:00<?, ? examples/s]"
      ]
     },
     "metadata": {},
     "output_type": "display_data"
    },
    {
     "data": {
      "application/vnd.jupyter.widget-view+json": {
       "model_id": "22dbec8aa55a47a79cc2f00256419124",
       "version_major": 2,
       "version_minor": 0
      },
      "text/plain": [
       "Map:   0%|          | 0/219 [00:00<?, ? examples/s]"
      ]
     },
     "metadata": {},
     "output_type": "display_data"
    },
    {
     "data": {
      "application/vnd.jupyter.widget-view+json": {
       "model_id": "fdc32930253643f9a0b9cc84ac2de4cc",
       "version_major": 2,
       "version_minor": 0
      },
      "text/plain": [
       "Map:   0%|          | 0/242 [00:00<?, ? examples/s]"
      ]
     },
     "metadata": {},
     "output_type": "display_data"
    }
   ],
   "source": [
    "title_dataset_train = title_dataset_train.map(preprocess_function, batched=True)\n",
    "title_dataset_val = title_dataset_val.map(preprocess_function, batched=True)\n",
    "title_dataset_test = title_dataset_test.map(preprocess_function, batched=True)"
   ]
  },
  {
   "cell_type": "code",
   "execution_count": 14,
   "id": "16ef3229-8d04-4ec1-9b4e-21d1ce85d778",
   "metadata": {},
   "outputs": [
    {
     "name": "stdout",
     "output_type": "stream",
     "text": [
      "Привет, дорогие мальчики и девочки! Ты знаешь, как быть здоровым ребенком? Вот некоторые правила, которым ты должен следовать.\n",
      "Во - первых, есть разные продукты, особенно фрукты и овощи. У вас может быть любимая еда, но вам лучше есть что-то другое, если вы едите разные продукты, вы, вероятно, получите больше питательных веществ, в которых нуждается ваше тело.\n",
      "Во-вторых, пить воду и молоко как можно чаще. Когда ты действительно хочешь пить, холодная вода - это \"Нет\". 1 выбор. Молоко - это отличный напиток, который может дать вам больше кальция, чтобы вырастить крепкие кости.\n",
      "В-третьих, слушай свое тело. Как ты себя чувствуешь, когда наелся? Когда вы едите, обращайте внимание на то, как чувствует себя ваше тело и когда ваш желудок чувствует себя комфортно насыщенным. Слишком много еды не сделает тебя комфортным и толстым.\n",
      "В-четвертых, ограничить время экрана. Время скриншота - это время, когда вы смотрите телевизор, DVD и видео или используете компьютеры. Приятно делать больше упражнений, таких как баскетбол, ездить на велосипеде и плавать. Ты не можешь смотреть телевизор больше двух часов в день.\n",
      "В-пятых, будьте активны. Одна вещь, которую ты хотел бы сделать в детстве, это выяснить, какую активность ты любишь больше всего. Найдите способы быть активными каждый день.\n",
      "Следуй этим правилам и можешь быть здоровым ребенком.\n",
      "..................................................................\n",
      "ВОПРОС: Какое название лучше всего подойдёт для этого текста? ПРАВИЛЬНЫЙ ОТВЕТ: Как быть здоровым ребенком\n",
      "НЕПРАВИЛЬНЫЕ ВАРИАНТЫ ОТВЕТА:\n",
      "  Как быть активным\n",
      "  Как сделать себя важным\n",
      "  Как сделать твоих родителей здоровыми\n"
     ]
    }
   ],
   "source": [
    "print(title_dataset_test[220][\"inp\"])"
   ]
  },
  {
   "cell_type": "code",
   "execution_count": 13,
   "id": "80122211-5dfb-4924-bcc8-4a9ae50c58e3",
   "metadata": {},
   "outputs": [],
   "source": [
    "#max([len(example[\"labels\"]) for example in title_dataset_train]), max([len(example[\"input_ids\"]) for example in title_dataset_train])"
   ]
  },
  {
   "cell_type": "code",
   "execution_count": 14,
   "id": "b40619c7-6e80-4362-bcda-a6c26bab64e6",
   "metadata": {},
   "outputs": [],
   "source": [
    "#max([len(example[\"labels\"]) for example in title_dataset_test])"
   ]
  },
  {
   "cell_type": "code",
   "execution_count": 15,
   "id": "d1338a44-da71-415a-a676-386a05b1ffa8",
   "metadata": {},
   "outputs": [],
   "source": [
    "data_collator = DataCollatorForLanguageModeling(tokenizer=tokenizer, mlm=False)"
   ]
  },
  {
   "cell_type": "code",
   "execution_count": 16,
   "id": "69c2ff89-5d40-4b92-b2fa-fb3bcf242be3",
   "metadata": {},
   "outputs": [],
   "source": [
    "NUM_TRAIN_EPOCHS=20\n",
    "BATCH_SIZE=1\n",
    "#STEPS=1000\n",
    "\n",
    "training_args = TrainingArguments(\n",
    "    output_dir=\"./RuGPT3-RuRACE\",\n",
    "    evaluation_strategy=\"epoch\",\n",
    "    weight_decay=0.01,\n",
    "    learning_rate=5e-5,\n",
    "    load_best_model_at_end=True,   \n",
    "    save_strategy=\"epoch\",\n",
    "    num_train_epochs=NUM_TRAIN_EPOCHS,\n",
    "    save_total_limit=3,\n",
    "    per_device_train_batch_size=BATCH_SIZE,\n",
    "    per_device_eval_batch_size=BATCH_SIZE,\n",
    "    prediction_loss_only=True,\n",
    "    gradient_checkpointing=True,\n",
    "    logging_dir=\"./rugpt3-rurace-title-logs\"\n",
    ")"
   ]
  },
  {
   "cell_type": "code",
   "execution_count": null,
   "id": "5c8b29fb-9fdb-4b1f-ba96-4a496ca51055",
   "metadata": {},
   "outputs": [],
   "source": []
  },
  {
   "cell_type": "code",
   "execution_count": 17,
   "id": "83ced7f4-b9ce-42fe-a8de-9b906431bab3",
   "metadata": {},
   "outputs": [],
   "source": [
    "trainer = Trainer(\n",
    "    model,\n",
    "    args=training_args,\n",
    "    train_dataset=title_dataset_train,\n",
    "    eval_dataset=title_dataset_val,\n",
    "    data_collator=data_collator\n",
    ")"
   ]
  },
  {
   "cell_type": "code",
   "execution_count": 18,
   "id": "a206bd39-4f9e-4212-af03-7018c2fef23f",
   "metadata": {},
   "outputs": [
    {
     "name": "stderr",
     "output_type": "stream",
     "text": [
      "`use_cache=True` is incompatible with gradient checkpointing. Setting `use_cache=False`...\n"
     ]
    },
    {
     "data": {
      "text/html": [
       "\n",
       "    <div>\n",
       "      \n",
       "      <progress value='87500' max='87500' style='width:300px; height:20px; vertical-align: middle;'></progress>\n",
       "      [87500/87500 2:02:12, Epoch 20/20]\n",
       "    </div>\n",
       "    <table border=\"1\" class=\"dataframe\">\n",
       "  <thead>\n",
       " <tr style=\"text-align: left;\">\n",
       "      <th>Epoch</th>\n",
       "      <th>Training Loss</th>\n",
       "      <th>Validation Loss</th>\n",
       "    </tr>\n",
       "  </thead>\n",
       "  <tbody>\n",
       "    <tr>\n",
       "      <td>1</td>\n",
       "      <td>2.904200</td>\n",
       "      <td>2.797599</td>\n",
       "    </tr>\n",
       "    <tr>\n",
       "      <td>2</td>\n",
       "      <td>2.636300</td>\n",
       "      <td>2.780272</td>\n",
       "    </tr>\n",
       "    <tr>\n",
       "      <td>3</td>\n",
       "      <td>2.352900</td>\n",
       "      <td>2.797400</td>\n",
       "    </tr>\n",
       "    <tr>\n",
       "      <td>4</td>\n",
       "      <td>2.106400</td>\n",
       "      <td>2.847580</td>\n",
       "    </tr>\n",
       "    <tr>\n",
       "      <td>5</td>\n",
       "      <td>1.866600</td>\n",
       "      <td>2.928264</td>\n",
       "    </tr>\n",
       "    <tr>\n",
       "      <td>6</td>\n",
       "      <td>1.728600</td>\n",
       "      <td>3.060783</td>\n",
       "    </tr>\n",
       "    <tr>\n",
       "      <td>7</td>\n",
       "      <td>1.527000</td>\n",
       "      <td>3.120582</td>\n",
       "    </tr>\n",
       "    <tr>\n",
       "      <td>8</td>\n",
       "      <td>1.333600</td>\n",
       "      <td>3.169202</td>\n",
       "    </tr>\n",
       "    <tr>\n",
       "      <td>9</td>\n",
       "      <td>1.251700</td>\n",
       "      <td>3.235275</td>\n",
       "    </tr>\n",
       "    <tr>\n",
       "      <td>10</td>\n",
       "      <td>1.112400</td>\n",
       "      <td>3.301702</td>\n",
       "    </tr>\n",
       "    <tr>\n",
       "      <td>11</td>\n",
       "      <td>0.979000</td>\n",
       "      <td>3.341585</td>\n",
       "    </tr>\n",
       "    <tr>\n",
       "      <td>12</td>\n",
       "      <td>0.910100</td>\n",
       "      <td>3.416603</td>\n",
       "    </tr>\n",
       "    <tr>\n",
       "      <td>13</td>\n",
       "      <td>0.794500</td>\n",
       "      <td>3.452274</td>\n",
       "    </tr>\n",
       "    <tr>\n",
       "      <td>14</td>\n",
       "      <td>0.728700</td>\n",
       "      <td>3.509490</td>\n",
       "    </tr>\n",
       "    <tr>\n",
       "      <td>15</td>\n",
       "      <td>0.673600</td>\n",
       "      <td>3.554361</td>\n",
       "    </tr>\n",
       "    <tr>\n",
       "      <td>16</td>\n",
       "      <td>0.616600</td>\n",
       "      <td>3.584324</td>\n",
       "    </tr>\n",
       "    <tr>\n",
       "      <td>17</td>\n",
       "      <td>0.575500</td>\n",
       "      <td>3.609643</td>\n",
       "    </tr>\n",
       "    <tr>\n",
       "      <td>18</td>\n",
       "      <td>0.543200</td>\n",
       "      <td>3.643314</td>\n",
       "    </tr>\n",
       "    <tr>\n",
       "      <td>19</td>\n",
       "      <td>0.515500</td>\n",
       "      <td>3.651453</td>\n",
       "    </tr>\n",
       "    <tr>\n",
       "      <td>20</td>\n",
       "      <td>0.461700</td>\n",
       "      <td>3.661017</td>\n",
       "    </tr>\n",
       "  </tbody>\n",
       "</table><p>"
      ],
      "text/plain": [
       "<IPython.core.display.HTML object>"
      ]
     },
     "metadata": {},
     "output_type": "display_data"
    },
    {
     "name": "stderr",
     "output_type": "stream",
     "text": [
      "There were missing keys in the checkpoint model loaded: ['lm_head.weight'].\n"
     ]
    }
   ],
   "source": [
    "trainer.train()\n",
    "trainer.save_model(\"Ru-RACE-title-best\")"
   ]
  },
  {
   "cell_type": "code",
   "execution_count": 31,
   "id": "01bc5d32-d2ff-46b4-8a7b-0c5e6cb9eb55",
   "metadata": {},
   "outputs": [],
   "source": [
    "def model_predict(text: str, max_length: int=1000) -> str:\n",
    "    input_ = tokenizer([text], return_tensors=\"pt\")\n",
    "    output = model.generate(\n",
    "        input_[\"input_ids\"].to(tt.device(\"cuda:0\")),\n",
    "        max_length=max_length\n",
    "    )\n",
    "    return tokenizer.batch_decode(output)[0]"
   ]
  },
  {
   "cell_type": "code",
   "execution_count": 32,
   "id": "f3313048-7b76-401e-a91f-d4a5f88eeaee",
   "metadata": {},
   "outputs": [],
   "source": [
    "def preprocess_dataset_text(text: str) -> str:\n",
    "    find_str = \"НЕПРАВИЛЬНЫЕ ВАРИАНТЫ ОТВЕТА:\\n\"\n",
    "    split_id = text.find(find_str)\n",
    "    split_id += len(find_str)\n",
    "    return text[:split_id], text[split_id:]"
   ]
  },
  {
   "cell_type": "code",
   "execution_count": 38,
   "id": "db8972c0-20dd-4c45-ad5f-939b6289aea0",
   "metadata": {},
   "outputs": [],
   "source": [
    "inp, label = preprocess_dataset_text(title_dataset_test[220][\"inp\"])"
   ]
  },
  {
   "cell_type": "code",
   "execution_count": 39,
   "id": "af1a565f-0602-41a1-8bdf-f997b21f2e70",
   "metadata": {},
   "outputs": [
    {
     "name": "stdout",
     "output_type": "stream",
     "text": [
      "Привет, дорогие мальчики и девочки! Ты знаешь, как быть здоровым ребенком? Вот некоторые правила, которым ты должен следовать.\n",
      "Во - первых, есть разные продукты, особенно фрукты и овощи. У вас может быть любимая еда, но вам лучше есть что-то другое, если вы едите разные продукты, вы, вероятно, получите больше питательных веществ, в которых нуждается ваше тело.\n",
      "Во-вторых, пить воду и молоко как можно чаще. Когда ты действительно хочешь пить, холодная вода - это \"Нет\". 1 выбор. Молоко - это отличный напиток, который может дать вам больше кальция, чтобы вырастить крепкие кости.\n",
      "В-третьих, слушай свое тело. Как ты себя чувствуешь, когда наелся? Когда вы едите, обращайте внимание на то, как чувствует себя ваше тело и когда ваш желудок чувствует себя комфортно насыщенным. Слишком много еды не сделает тебя комфортным и толстым.\n",
      "В-четвертых, ограничить время экрана. Время скриншота - это время, когда вы смотрите телевизор, DVD и видео или используете компьютеры. Приятно делать больше упражнений, таких как баскетбол, ездить на велосипеде и плавать. Ты не можешь смотреть телевизор больше двух часов в день.\n",
      "В-пятых, будьте активны. Одна вещь, которую ты хотел бы сделать в детстве, это выяснить, какую активность ты любишь больше всего. Найдите способы быть активными каждый день.\n",
      "Следуй этим правилам и можешь быть здоровым ребенком.\n",
      "..................................................................\n",
      "ВОПРОС: Какое название лучше всего подойдёт для этого текста? ПРАВИЛЬНЫЙ ОТВЕТ: Как быть здоровым ребенком\n",
      "НЕПРАВИЛЬНЫЕ ВАРИАНТЫ ОТВЕТА:\n",
      "\n"
     ]
    }
   ],
   "source": [
    "print(inp)"
   ]
  },
  {
   "cell_type": "code",
   "execution_count": 40,
   "id": "d4a88988-f2ff-4bde-9bd7-2452f0e4994a",
   "metadata": {},
   "outputs": [
    {
     "name": "stdout",
     "output_type": "stream",
     "text": [
      "  Как быть активным\n",
      "  Как сделать себя важным\n",
      "  Как сделать твоих родителей здоровыми\n"
     ]
    }
   ],
   "source": [
    "print(label)"
   ]
  },
  {
   "cell_type": "code",
   "execution_count": 41,
   "id": "75a44f01-0ef1-4d82-af30-d20cda855950",
   "metadata": {},
   "outputs": [],
   "source": [
    "outp = model_predict(inp)"
   ]
  },
  {
   "cell_type": "code",
   "execution_count": 42,
   "id": "bb142c18-4edc-4671-bdfc-58856167c535",
   "metadata": {},
   "outputs": [
    {
     "name": "stdout",
     "output_type": "stream",
     "text": [
      "Привет, дорогие мальчики и девочки! Ты знаешь, как быть здоровым ребенком? Вот некоторые правила, которым ты должен следовать.\n",
      "Во - первых, есть разные продукты, особенно фрукты и овощи. У вас может быть любимая еда, но вам лучше есть что-то другое, если вы едите разные продукты, вы, вероятно, получите больше питательных веществ, в которых нуждается ваше тело.\n",
      "Во-вторых, пить воду и молоко как можно чаще. Когда ты действительно хочешь пить, холодная вода - это \"Нет\". 1 выбор. Молоко - это отличный напиток, который может дать вам больше кальция, чтобы вырастить крепкие кости.\n",
      "В-третьих, слушай свое тело. Как ты себя чувствуешь, когда наелся? Когда вы едите, обращайте внимание на то, как чувствует себя ваше тело и когда ваш желудок чувствует себя комфортно насыщенным. Слишком много еды не сделает тебя комфортным и толстым.\n",
      "В-четвертых, ограничить время экрана. Время скриншота - это время, когда вы смотрите телевизор, DVD и видео или используете компьютеры. Приятно делать больше упражнений, таких как баскетбол, ездить на велосипеде и плавать. Ты не можешь смотреть телевизор больше двух часов в день.\n",
      "В-пятых, будьте активны. Одна вещь, которую ты хотел бы сделать в детстве, это выяснить, какую активность ты любишь больше всего. Найдите способы быть активными каждый день.\n",
      "Следуй этим правилам и можешь быть здоровым ребенком.\n",
      "..................................................................\n",
      "ВОПРОС: Какое название лучше всего подойдёт для этого текста? ПРАВИЛЬНЫЙ ОТВЕТ: Как быть здоровым ребенком\n",
      "НЕПРАВИЛЬНЫЕ ВАРИАНТЫ ОТВЕТА:\n",
      "  Как быть здоровым ребенком\n",
      "  Как быть здоровым ребенком\n",
      "  Как быть здоровым ребенком.\n",
      "  Как быть здоровым ребенком.\n",
      "  Как быть здоровым ребенком.\n",
      "  Как быть здоровым ребенком.\n",
      "  Как быть здоровым ребенком.\n",
      "  Как быть здоровым ребенком.\n",
      "  Как быть здоровым ребенком.\n",
      "  Как быть здоровым ребенком.\n",
      "  Как быть здоровым ребенком.\n",
      "  Как быть здоровым ребенком.\n",
      "  Как быть здоровым ребенком.\n",
      "  Как быть здоровым ребенком.\n",
      "  Как быть здоровым ребенком.\n",
      "  Как быть здоровым ребенком.\n",
      "  Как быть здоровым ребенком.\n",
      "  Как быть здоровым ребенком.\n",
      "  Как быть здоровым ребенком.\n",
      "  Как быть здоровым ребенком.\n",
      "  Как быть здоровым ребенком.\n",
      "  Как быть здоровым ребенком.\n",
      "  Как быть здоровым ребенком.\n",
      "  Как быть здоровым ребенком.\n",
      "  Как быть здоровым ребенком.\n",
      "  Как быть здоровым ребенком.\n",
      "  Как быть здоровым ребенком.\n",
      "  Как быть здоровым ребенком.\n",
      "  Как быть здоровым ребенком.\n",
      "  Как быть здоровым ребенком.\n",
      "  Как быть здоровым ребенком.\n",
      "  Как быть здоровым ребенком.\n",
      "  Как быть здоровым ребенком.\n",
      "  Как быть здоровым ребенком.\n",
      "  Как быть здоровым ребенком.\n",
      "  Как быть здоровым ребенком.\n",
      "  Как быть здоровым ребенком.\n",
      "  Как быть здоровым ребенком.\n",
      "  Как быть здоровым ребенком.\n",
      "  Как быть здоровым ребенком.\n",
      "  Как быть здоровым ребенком.\n",
      "  Как быть здоровым ребенком.\n",
      "  Как быть здоровым ребенком.\n",
      "  Как быть здоровым ребенком.\n",
      "  Как быть здоровым ребенком.\n",
      "  Как быть здоровым ребенком.\n",
      "  Как быть здоровым ребенком.\n",
      "  Как быть здоровым ребенком.\n",
      "  Как быть здоровым ребенком.\n",
      "  Как быть здоровым ребенком.\n",
      "  Как быть здоровым ребенком.\n",
      "  Как быть здоровым ребенком.\n",
      "  Как быть здоровым ребенком.\n",
      "  Как быть здоровым ребенком.\n",
      "  Как быть здоровым ребенком.\n",
      "  Как быть здоровым ребенком.\n",
      "  Как быть здоровым ребенком.\n",
      "  Как быть здоровым ребенком.\n",
      "  Как быть здоровым ребенком.\n",
      "  Как быть здоровым ребенком.\n",
      "  Как быть здоровым ребенком.\n",
      "  Как быть здоровым ребенком.\n",
      "  Как быть здоровым ребенком.\n",
      "  Как быть здоровым ребенком.\n",
      "  Как быть здоровым ребенком.\n",
      "  Как быть здоровым ребенком.\n",
      "  Как быть здоровым ребенком.\n",
      "  Как быть здоровым ребенком.\n",
      "  Как быть здоровым ребенком.\n",
      "  Как быть здоровым ребенком.\n",
      "  Как быть здоровым ребенком.\n",
      "  Как быть здоровым ребенком.\n",
      "  Как быть здоровым ребенком.\n",
      "  Как быть здоровым ребенком.\n",
      "  Как быть здоровым ребенком.\n",
      "  Как быть здоровым ребенком.\n",
      "  Как быть здоровым ребенком.\n",
      "  Как быть здоровым ребенком.\n",
      "  Как быть здоровым ребенком.\n",
      "  Как быть здоровым ребенком.\n",
      "  Как быть здоровым ребенком.\n",
      "  Как быть здоровым ребенком.\n",
      "  Как быть здоровым ребенком.\n",
      "  Как быть здоровым ребенком.\n",
      "  Как быть здоровым ребенком.\n",
      "  Как быть здоровым ребенком.\n",
      "  Как быть здоровым ребенком.\n",
      "  Как быть здоровым ребенком.\n",
      "  Как быть здоровым ребенком.\n",
      "  Как быть здоровым ребенком.\n",
      "  Как быть здоровым ребенком.\n",
      "  Как быть здоровым ребенком.\n",
      "  Как быть здоровым ребенком.\n",
      "  Как быть здоровым ребенком.\n",
      "  Как быть\n"
     ]
    }
   ],
   "source": [
    "print(outp)"
   ]
  },
  {
   "cell_type": "code",
   "execution_count": null,
   "id": "6e061d44-2e43-4053-acdd-9259bc5ec036",
   "metadata": {},
   "outputs": [],
   "source": []
  }
 ],
 "metadata": {
  "kernelspec": {
   "display_name": "Python 3 (ipykernel)",
   "language": "python",
   "name": "python3"
  },
  "language_info": {
   "codemirror_mode": {
    "name": "ipython",
    "version": 3
   },
   "file_extension": ".py",
   "mimetype": "text/x-python",
   "name": "python",
   "nbconvert_exporter": "python",
   "pygments_lexer": "ipython3",
   "version": "3.10.12"
  }
 },
 "nbformat": 4,
 "nbformat_minor": 5
}
