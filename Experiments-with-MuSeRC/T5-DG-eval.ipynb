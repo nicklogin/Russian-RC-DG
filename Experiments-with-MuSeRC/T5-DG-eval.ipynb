{
 "cells": [
  {
   "cell_type": "code",
   "execution_count": 1,
   "id": "b9340032-65f2-4a10-87f6-579558210c2e",
   "metadata": {},
   "outputs": [
    {
     "name": "stderr",
     "output_type": "stream",
     "text": [
      "[nltk_data] Downloading package punkt to /home/user/nltk_data...\n",
      "[nltk_data]   Package punkt is already up-to-date!\n"
     ]
    },
    {
     "data": {
      "text/plain": [
       "True"
      ]
     },
     "execution_count": 1,
     "metadata": {},
     "output_type": "execute_result"
    }
   ],
   "source": [
    "import nltk\n",
    "nltk.download(\"punkt\")"
   ]
  },
  {
   "cell_type": "code",
   "execution_count": 2,
   "id": "ed3563ad-9299-496f-9234-928d4e59286b",
   "metadata": {},
   "outputs": [],
   "source": [
    "import evaluate\n",
    "import json\n",
    "import pandas as pd\n",
    "import torch as tt\n",
    "\n",
    "from datasets import load_dataset, Dataset\n",
    "from nltk.tokenize import sent_tokenize\n",
    "from transformers import T5Tokenizer, T5ForConditionalGeneration\n",
    "from transformers import DataCollatorForSeq2Seq, Seq2SeqTrainer, Seq2SeqTrainingArguments\n",
    "from transformers import PreTrainedModel, PreTrainedTokenizer\n",
    "from typing import Any, Dict\n",
    "from tqdm import tqdm_notebook"
   ]
  },
  {
   "cell_type": "code",
   "execution_count": 3,
   "id": "183fa3c8-b003-43da-bc4a-81864a78fa6c",
   "metadata": {},
   "outputs": [
    {
     "name": "stderr",
     "output_type": "stream",
     "text": [
      "You are using the default legacy behaviour of the <class 'transformers.models.t5.tokenization_t5.T5Tokenizer'>. This is expected, and simply means that the `legacy` (previous) behavior will be used so nothing changes for you. If you want to use the new behaviour, set `legacy=False`. This should only be set if you understand what it means, and thoroughly read the reason why this was added as explained in https://github.com/huggingface/transformers/pull/24565\n",
      "Special tokens have been added in the vocabulary, make sure the associated word embeddings are fine-tuned or trained.\n",
      "[nltk_data] Downloading package wordnet to /home/user/nltk_data...\n",
      "[nltk_data]   Package wordnet is already up-to-date!\n",
      "[nltk_data] Downloading package punkt to /home/user/nltk_data...\n",
      "[nltk_data]   Package punkt is already up-to-date!\n",
      "[nltk_data] Downloading package omw-1.4 to /home/user/nltk_data...\n",
      "[nltk_data]   Package omw-1.4 is already up-to-date!\n"
     ]
    }
   ],
   "source": [
    "# models:\n",
    "tokenizer = T5Tokenizer.from_pretrained(\"ai-forever/ruT5-base\")\n",
    "model = T5ForConditionalGeneration.from_pretrained(\"RuT5-MuSeRC-DG/checkpoint-14500\")\n",
    "model = model.to(tt.device(\"cuda:0\"))\n",
    "\n",
    "# metrics:\n",
    "bleu4 = evaluate.load(\"bleu\")\n",
    "sbleu = evaluate.load(\"sacrebleu\")\n",
    "rouge = evaluate.load(\"rouge\")\n",
    "meteor = evaluate.load(\"meteor\")"
   ]
  },
  {
   "cell_type": "markdown",
   "id": "ff158fa3-fa54-42f3-93b7-243b35b039e3",
   "metadata": {},
   "source": [
    "Load dataset:"
   ]
  },
  {
   "cell_type": "code",
   "execution_count": 4,
   "id": "54f84a16-d647-4d6d-ac17-7a6d19dea079",
   "metadata": {},
   "outputs": [],
   "source": [
    "def to_dg_format(dataset: list[dict[str, Any]]) -> list[dict[str, Any]]:\n",
    "    dataset_processed = []\n",
    "    item_id = 0\n",
    "\n",
    "    for iidx, item in enumerate(dataset):\n",
    "        for question in item[\"passage\"][\"questions\"]:\n",
    "            new_item = {\n",
    "                \"item_id\": item_id,\n",
    "                \"passage_id\": item[\"idx\"],\n",
    "                \"passage\": item[\"passage\"][\"text\"],\n",
    "                \"question\": question[\"question\"],\n",
    "                \"distractors\": ';'.join(\n",
    "                    [\n",
    "                        f'\"{answer[\"text\"]}\"' for answer in question[\"answers\"] if answer[\"label\"] == 0\n",
    "                    ]\n",
    "                ),\n",
    "                \"right_answer\": [\n",
    "                    answer[\"text\"] for answer in question[\"answers\"] if answer[\"label\"] == 1\n",
    "                ][0]\n",
    "            }\n",
    "            dataset_processed.append(new_item)\n",
    "            item_id += 1\n",
    "\n",
    "    return dataset_processed\n",
    "\n",
    "\n",
    "def to_dg_format_final(dataset: list[dict[str, Any]]) -> list[dict[str, Any]]:\n",
    "    new_dataset = []\n",
    "\n",
    "    for item in dataset:\n",
    "        new_item = {\n",
    "            \"item_id\": item[\"item_id\"],\n",
    "            \"passage_id\": item[\"passage_id\"],\n",
    "            \"inp\": f'{item[\"passage\"]} ВОПРОС: {item[\"question\"]} ПРАВИЛЬНЫЙ ОТВЕТ: {item[\"right_answer\"]} НЕПРАВИЛЬНЫЕ ВАРИАНТЫ ОТВЕТА: ',\n",
    "            \"outp\": item[\"distractors\"],\n",
    "            \"outp_len\": len(tokenizer(item[\"distractors\"])[\"input_ids\"])\n",
    "        }\n",
    "        new_dataset.append(new_item)\n",
    "\n",
    "    return new_dataset\n",
    "\n",
    "\n",
    "muserc_train = pd.read_json(\"MuSeRC/train.jsonl\", lines=True).to_dict(orient=\"records\")\n",
    "muserc_val = pd.read_json(\"MuSeRC/val.jsonl\", lines=True).to_dict(orient=\"records\")\n",
    "muserc_train_dg = Dataset.from_list(to_dg_format_final(to_dg_format(muserc_train)))\n",
    "muserc_val_dg = Dataset.from_list(to_dg_format_final(to_dg_format(muserc_val)))"
   ]
  },
  {
   "cell_type": "code",
   "execution_count": 5,
   "id": "d0bcbdf4-93f6-4ff1-b405-42ff3ccaaa4e",
   "metadata": {},
   "outputs": [
    {
     "data": {
      "text/plain": [
       "count    2897.000000\n",
       "mean       23.775285\n",
       "std        12.870540\n",
       "min         1.000000\n",
       "25%        15.000000\n",
       "50%        21.000000\n",
       "75%        29.000000\n",
       "max       101.000000\n",
       "dtype: float64"
      ]
     },
     "execution_count": 5,
     "metadata": {},
     "output_type": "execute_result"
    }
   ],
   "source": [
    "pd.Series(muserc_train_dg[\"outp_len\"]).describe()"
   ]
  },
  {
   "cell_type": "code",
   "execution_count": 6,
   "id": "39a8ac20-d062-4154-8ada-3c6b8aace6b7",
   "metadata": {},
   "outputs": [
    {
     "data": {
      "text/plain": [
       "69"
      ]
     },
     "execution_count": 6,
     "metadata": {},
     "output_type": "execute_result"
    }
   ],
   "source": [
    "MAX_LEN = int(pd.Series(muserc_train_dg[\"outp_len\"]).quantile(0.99))\n",
    "MAX_LEN"
   ]
  },
  {
   "cell_type": "code",
   "execution_count": 7,
   "id": "99936bf1-bd42-4948-aa56-dcae016e7d7a",
   "metadata": {},
   "outputs": [],
   "source": [
    "def get_metric_inputs_seq2seq(\n",
    "    input_batch: list[str],\n",
    "    model: PreTrainedModel, tokenizer: PreTrainedTokenizer\n",
    ") -> list[str]:\n",
    "    input_batch_ = tokenizer(\n",
    "        input_batch,\n",
    "        return_tensors=\"pt\",\n",
    "        padding=True\n",
    "    )[\"input_ids\"].to(tt.device(\"cuda:0\"))\n",
    "\n",
    "    with tt.no_grad():\n",
    "        output_batch = model.generate(input_batch_, max_length=MAX_LEN)\n",
    "\n",
    "    output = [\n",
    "        sent.replace(\"<pad>\", \" \").replace(\"</s>\", \" \").strip() for sent in tokenizer.batch_decode(\n",
    "            output_batch)\n",
    "    ]\n",
    "    \n",
    "    del input_batch_\n",
    "    del output_batch\n",
    "    tt.cuda.empty_cache()\n",
    "\n",
    "    return output\n",
    "\n",
    "def compute_metrics(output: list[str], label_batch: list[str]) -> dict:\n",
    "    metric_dict = {\n",
    "        \"bleu\": bleu4.compute(predictions=output, references=[[label] for label in label_batch]),\n",
    "        \"sbleu\": sbleu.compute(predictions=output, references=[[label] for label in label_batch]),\n",
    "        \"rouge\": rouge.compute(predictions=output, references=label_batch),\n",
    "        \"meteor\": meteor.compute(predictions=output, references=label_batch)\n",
    "    }\n",
    "    return metric_dict"
   ]
  },
  {
   "cell_type": "code",
   "execution_count": 8,
   "id": "9a579afb-2104-4f6b-a2fe-916c1bb2b3e7",
   "metadata": {},
   "outputs": [],
   "source": [
    "def compute_metrics_on_dataset_seq2seq(\n",
    "    dataset: Dataset, model: PreTrainedModel=model,\n",
    "    tokenizer: PreTrainedTokenizer=tokenizer\n",
    ") -> pd.DataFrame:\n",
    "    batch_size = 1\n",
    "\n",
    "    n_steps = (len(dataset) // batch_size) + 1\n",
    "    metrics = []\n",
    "\n",
    "    for i in tqdm_notebook(range(n_steps), total=n_steps):\n",
    "        slice = dataset[i*batch_size:(i+1)*batch_size]\n",
    "        if slice[\"inp\"]:\n",
    "            output = get_metric_inputs_seq2seq(slice[\"inp\"], model, tokenizer)\n",
    "            distractors = [\n",
    "                item.replace('\\n', '').replace('  ',' ').replace('  ',' ').strip()\n",
    "                for item in slice[\"outp\"]\n",
    "            ]\n",
    "            if len(distractors[0]) > 0:\n",
    "                metric = compute_metrics(output, distractors)\n",
    "                metrics.append({\n",
    "                    \"item_id\": slice[\"item_id\"][0],\n",
    "                    \"passage_id\": slice[\"passage_id\"][0],\n",
    "                    \"inp\": slice[\"inp\"][0],\n",
    "                    \"distractors\": distractors[0],\n",
    "                    \"output\": output[0],\n",
    "        \n",
    "                    \"bleu\": metric[\"bleu\"][\"bleu\"],\n",
    "                    \"sbleu\": metric[\"sbleu\"][\"score\"],\n",
    "                    \"rouge1\": metric[\"rouge\"][\"rouge1\"],\n",
    "                    \"rouge2\": metric[\"rouge\"][\"rouge2\"],\n",
    "                    \"rougeL\": metric[\"rouge\"][\"rougeL\"],\n",
    "                    \"rougeLsum\": metric[\"rouge\"][\"rougeLsum\"],\n",
    "                    \"meteor\": metric[\"meteor\"][\"meteor\"],\n",
    "                })\n",
    "\n",
    "    return pd.DataFrame(metrics)"
   ]
  },
  {
   "cell_type": "code",
   "execution_count": 9,
   "id": "873b0779-66e3-4031-b884-6d2e1b3dd42d",
   "metadata": {},
   "outputs": [],
   "source": [
    "METRIC_COLS = [\n",
    "    \"bleu\", \"sbleu\", \"rouge1\", \"rouge2\",\n",
    "    \"rougeL\", \"rougeLsum\", \"meteor\"\n",
    "]"
   ]
  },
  {
   "cell_type": "code",
   "execution_count": null,
   "id": "3ba652bb-19dc-4fe9-8810-701668f72384",
   "metadata": {},
   "outputs": [
    {
     "name": "stderr",
     "output_type": "stream",
     "text": [
      "/tmp/ipykernel_39330/2524562537.py:10: TqdmDeprecationWarning: This function will be removed in tqdm==5.0.0\n",
      "Please use `tqdm.notebook.tqdm` instead of `tqdm.tqdm_notebook`\n",
      "  for i in tqdm_notebook(range(n_steps), total=n_steps):\n"
     ]
    },
    {
     "data": {
      "application/vnd.jupyter.widget-view+json": {
       "model_id": "2a8f7b66f2a74232bd74def3515e386c",
       "version_major": 2,
       "version_minor": 0
      },
      "text/plain": [
       "  0%|          | 0/2898 [00:00<?, ?it/s]"
      ]
     },
     "metadata": {},
     "output_type": "display_data"
    }
   ],
   "source": [
    "metrics_muserc_train = compute_metrics_on_dataset_seq2seq(muserc_train_dg)"
   ]
  },
  {
   "cell_type": "code",
   "execution_count": null,
   "id": "18498c25-adf7-47ff-8248-99bd33f6d62b",
   "metadata": {},
   "outputs": [],
   "source": [
    "metrics_muserc_train"
   ]
  },
  {
   "cell_type": "code",
   "execution_count": 16,
   "id": "b20c7aa8-1765-4056-8d5f-024df2d1d7dc",
   "metadata": {},
   "outputs": [
    {
     "data": {
      "text/html": [
       "<div>\n",
       "<style scoped>\n",
       "    .dataframe tbody tr th:only-of-type {\n",
       "        vertical-align: middle;\n",
       "    }\n",
       "\n",
       "    .dataframe tbody tr th {\n",
       "        vertical-align: top;\n",
       "    }\n",
       "\n",
       "    .dataframe thead th {\n",
       "        text-align: right;\n",
       "    }\n",
       "</style>\n",
       "<table border=\"1\" class=\"dataframe\">\n",
       "  <thead>\n",
       "    <tr style=\"text-align: right;\">\n",
       "      <th></th>\n",
       "      <th>bleu</th>\n",
       "      <th>sbleu</th>\n",
       "      <th>rouge1</th>\n",
       "      <th>rouge2</th>\n",
       "      <th>rougeL</th>\n",
       "      <th>rougeLsum</th>\n",
       "      <th>meteor</th>\n",
       "    </tr>\n",
       "  </thead>\n",
       "  <tbody>\n",
       "    <tr>\n",
       "      <th>count</th>\n",
       "      <td>2896.000000</td>\n",
       "      <td>2896.000000</td>\n",
       "      <td>2896.000000</td>\n",
       "      <td>2896.000000</td>\n",
       "      <td>2896.000000</td>\n",
       "      <td>2896.000000</td>\n",
       "      <td>2896.000000</td>\n",
       "    </tr>\n",
       "    <tr>\n",
       "      <th>mean</th>\n",
       "      <td>0.742225</td>\n",
       "      <td>74.349000</td>\n",
       "      <td>0.111410</td>\n",
       "      <td>0.049719</td>\n",
       "      <td>0.110692</td>\n",
       "      <td>0.110692</td>\n",
       "      <td>0.839152</td>\n",
       "    </tr>\n",
       "    <tr>\n",
       "      <th>std</th>\n",
       "      <td>0.256326</td>\n",
       "      <td>25.301540</td>\n",
       "      <td>0.285275</td>\n",
       "      <td>0.197448</td>\n",
       "      <td>0.283919</td>\n",
       "      <td>0.283919</td>\n",
       "      <td>0.180250</td>\n",
       "    </tr>\n",
       "    <tr>\n",
       "      <th>min</th>\n",
       "      <td>0.000000</td>\n",
       "      <td>0.696273</td>\n",
       "      <td>0.000000</td>\n",
       "      <td>0.000000</td>\n",
       "      <td>0.000000</td>\n",
       "      <td>0.000000</td>\n",
       "      <td>0.105167</td>\n",
       "    </tr>\n",
       "    <tr>\n",
       "      <th>25%</th>\n",
       "      <td>0.576674</td>\n",
       "      <td>57.667354</td>\n",
       "      <td>0.000000</td>\n",
       "      <td>0.000000</td>\n",
       "      <td>0.000000</td>\n",
       "      <td>0.000000</td>\n",
       "      <td>0.731129</td>\n",
       "    </tr>\n",
       "    <tr>\n",
       "      <th>50%</th>\n",
       "      <td>0.763857</td>\n",
       "      <td>76.385667</td>\n",
       "      <td>0.000000</td>\n",
       "      <td>0.000000</td>\n",
       "      <td>0.000000</td>\n",
       "      <td>0.000000</td>\n",
       "      <td>0.886970</td>\n",
       "    </tr>\n",
       "    <tr>\n",
       "      <th>75%</th>\n",
       "      <td>1.000000</td>\n",
       "      <td>100.000000</td>\n",
       "      <td>0.000000</td>\n",
       "      <td>0.000000</td>\n",
       "      <td>0.000000</td>\n",
       "      <td>0.000000</td>\n",
       "      <td>0.999500</td>\n",
       "    </tr>\n",
       "    <tr>\n",
       "      <th>max</th>\n",
       "      <td>1.000000</td>\n",
       "      <td>100.000000</td>\n",
       "      <td>1.000000</td>\n",
       "      <td>1.000000</td>\n",
       "      <td>1.000000</td>\n",
       "      <td>1.000000</td>\n",
       "      <td>0.999995</td>\n",
       "    </tr>\n",
       "  </tbody>\n",
       "</table>\n",
       "</div>"
      ],
      "text/plain": [
       "              bleu        sbleu       rouge1       rouge2       rougeL  \\\n",
       "count  2896.000000  2896.000000  2896.000000  2896.000000  2896.000000   \n",
       "mean      0.742225    74.349000     0.111410     0.049719     0.110692   \n",
       "std       0.256326    25.301540     0.285275     0.197448     0.283919   \n",
       "min       0.000000     0.696273     0.000000     0.000000     0.000000   \n",
       "25%       0.576674    57.667354     0.000000     0.000000     0.000000   \n",
       "50%       0.763857    76.385667     0.000000     0.000000     0.000000   \n",
       "75%       1.000000   100.000000     0.000000     0.000000     0.000000   \n",
       "max       1.000000   100.000000     1.000000     1.000000     1.000000   \n",
       "\n",
       "         rougeLsum       meteor  \n",
       "count  2896.000000  2896.000000  \n",
       "mean      0.110692     0.839152  \n",
       "std       0.283919     0.180250  \n",
       "min       0.000000     0.105167  \n",
       "25%       0.000000     0.731129  \n",
       "50%       0.000000     0.886970  \n",
       "75%       0.000000     0.999500  \n",
       "max       1.000000     0.999995  "
      ]
     },
     "execution_count": 16,
     "metadata": {},
     "output_type": "execute_result"
    }
   ],
   "source": [
    "metrics_muserc_train[METRIC_COLS].describe()"
   ]
  },
  {
   "cell_type": "code",
   "execution_count": null,
   "id": "c1c7139c-c6fb-4724-9ac3-9d182aa8a696",
   "metadata": {},
   "outputs": [],
   "source": [
    "metrics_muserc_train.to_csv(\"metrics_muserc_train.csv\", sep=';')"
   ]
  },
  {
   "cell_type": "code",
   "execution_count": null,
   "id": "c417c888-9c81-4c4c-b099-cf71e008fe1f",
   "metadata": {},
   "outputs": [],
   "source": [
    "metrics_muserc_val = compute_metrics_on_dataset_seq2seq(muserc_val_dg)\n",
    "metrics_muserc_val.to_csv(\"metrics_muserc_val.csv\", sep=';')"
   ]
  },
  {
   "cell_type": "code",
   "execution_count": 17,
   "id": "f89b4540-29de-4927-87ca-48a26ebe92f8",
   "metadata": {},
   "outputs": [
    {
     "data": {
      "text/html": [
       "<div>\n",
       "<style scoped>\n",
       "    .dataframe tbody tr th:only-of-type {\n",
       "        vertical-align: middle;\n",
       "    }\n",
       "\n",
       "    .dataframe tbody tr th {\n",
       "        vertical-align: top;\n",
       "    }\n",
       "\n",
       "    .dataframe thead th {\n",
       "        text-align: right;\n",
       "    }\n",
       "</style>\n",
       "<table border=\"1\" class=\"dataframe\">\n",
       "  <thead>\n",
       "    <tr style=\"text-align: right;\">\n",
       "      <th></th>\n",
       "      <th>bleu</th>\n",
       "      <th>sbleu</th>\n",
       "      <th>rouge1</th>\n",
       "      <th>rouge2</th>\n",
       "      <th>rougeL</th>\n",
       "      <th>rougeLsum</th>\n",
       "      <th>meteor</th>\n",
       "    </tr>\n",
       "  </thead>\n",
       "  <tbody>\n",
       "    <tr>\n",
       "      <th>count</th>\n",
       "      <td>528.000000</td>\n",
       "      <td>528.000000</td>\n",
       "      <td>528.000000</td>\n",
       "      <td>528.000000</td>\n",
       "      <td>528.000000</td>\n",
       "      <td>528.000000</td>\n",
       "      <td>528.000000</td>\n",
       "    </tr>\n",
       "    <tr>\n",
       "      <th>mean</th>\n",
       "      <td>0.193488</td>\n",
       "      <td>20.123265</td>\n",
       "      <td>0.017784</td>\n",
       "      <td>0.006875</td>\n",
       "      <td>0.017152</td>\n",
       "      <td>0.017152</td>\n",
       "      <td>0.457789</td>\n",
       "    </tr>\n",
       "    <tr>\n",
       "      <th>std</th>\n",
       "      <td>0.141881</td>\n",
       "      <td>13.300166</td>\n",
       "      <td>0.100311</td>\n",
       "      <td>0.065040</td>\n",
       "      <td>0.097220</td>\n",
       "      <td>0.097220</td>\n",
       "      <td>0.163195</td>\n",
       "    </tr>\n",
       "    <tr>\n",
       "      <th>min</th>\n",
       "      <td>0.000000</td>\n",
       "      <td>0.112528</td>\n",
       "      <td>0.000000</td>\n",
       "      <td>0.000000</td>\n",
       "      <td>0.000000</td>\n",
       "      <td>0.000000</td>\n",
       "      <td>0.110940</td>\n",
       "    </tr>\n",
       "    <tr>\n",
       "      <th>25%</th>\n",
       "      <td>0.101119</td>\n",
       "      <td>10.552670</td>\n",
       "      <td>0.000000</td>\n",
       "      <td>0.000000</td>\n",
       "      <td>0.000000</td>\n",
       "      <td>0.000000</td>\n",
       "      <td>0.337701</td>\n",
       "    </tr>\n",
       "    <tr>\n",
       "      <th>50%</th>\n",
       "      <td>0.176950</td>\n",
       "      <td>17.694975</td>\n",
       "      <td>0.000000</td>\n",
       "      <td>0.000000</td>\n",
       "      <td>0.000000</td>\n",
       "      <td>0.000000</td>\n",
       "      <td>0.444490</td>\n",
       "    </tr>\n",
       "    <tr>\n",
       "      <th>75%</th>\n",
       "      <td>0.274049</td>\n",
       "      <td>27.404852</td>\n",
       "      <td>0.000000</td>\n",
       "      <td>0.000000</td>\n",
       "      <td>0.000000</td>\n",
       "      <td>0.000000</td>\n",
       "      <td>0.575006</td>\n",
       "    </tr>\n",
       "    <tr>\n",
       "      <th>max</th>\n",
       "      <td>0.750624</td>\n",
       "      <td>75.062385</td>\n",
       "      <td>1.000000</td>\n",
       "      <td>1.000000</td>\n",
       "      <td>1.000000</td>\n",
       "      <td>1.000000</td>\n",
       "      <td>0.903748</td>\n",
       "    </tr>\n",
       "  </tbody>\n",
       "</table>\n",
       "</div>"
      ],
      "text/plain": [
       "             bleu       sbleu      rouge1      rouge2      rougeL   rougeLsum  \\\n",
       "count  528.000000  528.000000  528.000000  528.000000  528.000000  528.000000   \n",
       "mean     0.193488   20.123265    0.017784    0.006875    0.017152    0.017152   \n",
       "std      0.141881   13.300166    0.100311    0.065040    0.097220    0.097220   \n",
       "min      0.000000    0.112528    0.000000    0.000000    0.000000    0.000000   \n",
       "25%      0.101119   10.552670    0.000000    0.000000    0.000000    0.000000   \n",
       "50%      0.176950   17.694975    0.000000    0.000000    0.000000    0.000000   \n",
       "75%      0.274049   27.404852    0.000000    0.000000    0.000000    0.000000   \n",
       "max      0.750624   75.062385    1.000000    1.000000    1.000000    1.000000   \n",
       "\n",
       "           meteor  \n",
       "count  528.000000  \n",
       "mean     0.457789  \n",
       "std      0.163195  \n",
       "min      0.110940  \n",
       "25%      0.337701  \n",
       "50%      0.444490  \n",
       "75%      0.575006  \n",
       "max      0.903748  "
      ]
     },
     "execution_count": 17,
     "metadata": {},
     "output_type": "execute_result"
    }
   ],
   "source": [
    "metrics_muserc_val[METRIC_COLS].describe()"
   ]
  },
  {
   "cell_type": "code",
   "execution_count": null,
   "id": "6eacc8cb-8817-4e10-91c1-5637fd4c0de0",
   "metadata": {},
   "outputs": [],
   "source": []
  }
 ],
 "metadata": {
  "kernelspec": {
   "display_name": "Python 3 (ipykernel)",
   "language": "python",
   "name": "python3"
  },
  "language_info": {
   "codemirror_mode": {
    "name": "ipython",
    "version": 3
   },
   "file_extension": ".py",
   "mimetype": "text/x-python",
   "name": "python",
   "nbconvert_exporter": "python",
   "pygments_lexer": "ipython3",
   "version": "3.10.12"
  }
 },
 "nbformat": 4,
 "nbformat_minor": 5
}
