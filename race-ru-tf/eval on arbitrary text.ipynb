{
 "cells": [
  {
   "cell_type": "code",
   "execution_count": 1,
   "id": "2d8467eb-c4ad-49ca-b3fb-424b1129732a",
   "metadata": {},
   "outputs": [],
   "source": [
    "import json\n",
    "\n",
    "import evaluate\n",
    "import torch as tt\n",
    "import pandas as pd\n",
    "\n",
    "from typing import Any, Dict, Union\n",
    "\n",
    "from nltk.tokenize import sent_tokenize\n",
    "from tqdm import tqdm_notebook\n",
    "from datasets import Dataset, load_dataset\n",
    "from transformers import T5Tokenizer, T5ForConditionalGeneration, PreTrainedModel, PreTrainedTokenizer\n",
    "from transformers import DataCollatorForSeq2Seq, Seq2SeqTrainer, Seq2SeqTrainingArguments"
   ]
  },
  {
   "cell_type": "code",
   "execution_count": 13,
   "id": "c847ad6a-b673-4e1c-8464-e70ec754dc79",
   "metadata": {},
   "outputs": [],
   "source": [
    "s1 = \"\"\"Наш корабль стоял на якоре у берега Африки. День был прекрасный, с моря дул свежий ветер; но к вечеру погода изменилась: стало душно и точно из топленной печки несло на нас горячим воздухом с пустыни Сахары. Перед закатом солнца капитан вышел на палубу, крикнул: «Купаться!» — и в одну минуту матросы попрыгали в воду, спустили в воду парус, привязали его и в парусе устроили купальню.\n",
    "На корабле с нами было два мальчика. Мальчики первые попрыгали в воду, но им тесно было в парусе, они вздумали плавать наперегонки в открытом море.\n",
    "Оба, как ящерицы, вытягивались в воде и что было силы поплыли к тому месту, где был бочонок над якорем.\n",
    "Один мальчик сначала перегнал товарища, но потом стал отставать. Отец мальчика, старый артиллерист, стоял на палубе и любовался на своего сынишку. Когда сын стал отставать, отец крикнул ему: «Не выдавай! Понатужься!»\n",
    "Вдруг с палубы кто-то крикнул: «Акула!» — и все мы увидали в воде спину морского чудовища.\n",
    "Акула плыла прямо на мальчиков.\n",
    "— Назад! Назад! Вернитесь! Акула! — закричал артиллерист. Но ребята не слыхали его, плыли дальше, смеялись и кричали еще веселее и громче прежнего.\n",
    "Артиллерист, бледный как полотно, не шевелясь, смотрел на детей.\n",
    "Матросы спустили лодку, бросились в нее и, сгибая весла, понеслись что было силы к мальчикам; но они были еще далеко от них, когда акула уже была не дальше 20-ти шагов.\n",
    "Мальчики сначала не слыхали того, что им кричали, и не видали акулы; но потом один из них оглянулся, и мы все услыхали пронзительный визг, и мальчики поплыли в разные стороны.\n",
    "Визг этот как будто разбудил артиллериста. Он сорвался с места и побежал к пушкам. Он повернул хобот, прилег к пушке, прицелился и взял фитиль.\n",
    "Мы все, сколько нас ни было на корабле, замерли от страха и ждали, что будет.\n",
    "Раздался выстрел, и мы увидали, что артиллерист упал подле пушки и закрыл лицо руками. Что сделалось с акулой и с мальчиками, мы не видали, потому что на минуту дым застлал нам глаза.\n",
    "Но когда дым разошелся над водою, со всех сторон послышался сначала тихий ропот, потом ропот этот стал сильнее, и, наконец, со всех сторон раздался громкий, радостный крик.\n",
    "Старый артиллерист открыл лицо, поднялся и посмотрел на море.\n",
    "По волнам колыхалось желтое брюхо мертвой акулы. В несколько минут лодка подплыла к мальчикам и привезла их на корабль. ВОПРОС: Какое высказывание СООТВЕТСТВУЕТ тексту? ПРАВИЛЬНЫЙ ОТВЕТ: \"Меткость старого артиллериста спасла мальичков от морского чудовища\" НЕПРАВИЛЬНЫЕ ВАРИАНТЫ ОТВЕТА:\"\"\""
   ]
  },
  {
   "cell_type": "code",
   "execution_count": 3,
   "id": "113f32d5-3710-4a78-97af-bf1b7a43b414",
   "metadata": {},
   "outputs": [
    {
     "name": "stderr",
     "output_type": "stream",
     "text": [
      "You are using the default legacy behaviour of the <class 'transformers.models.t5.tokenization_t5.T5Tokenizer'>. This is expected, and simply means that the `legacy` (previous) behavior will be used so nothing changes for you. If you want to use the new behaviour, set `legacy=False`. This should only be set if you understand what it means, and thoroughly read the reason why this was added as explained in https://github.com/huggingface/transformers/pull/24565\n",
      "Special tokens have been added in the vocabulary, make sure the associated word embeddings are fine-tuned or trained.\n",
      "[nltk_data] Downloading package wordnet to /home/user/nltk_data...\n",
      "[nltk_data]   Package wordnet is already up-to-date!\n",
      "[nltk_data] Downloading package punkt to /home/user/nltk_data...\n",
      "[nltk_data]   Package punkt is already up-to-date!\n",
      "[nltk_data] Downloading package omw-1.4 to /home/user/nltk_data...\n",
      "[nltk_data]   Package omw-1.4 is already up-to-date!\n"
     ]
    }
   ],
   "source": [
    "# models:\n",
    "tokenizer = T5Tokenizer.from_pretrained(\"ai-forever/ruT5-base\")\n",
    "model = T5ForConditionalGeneration.from_pretrained(\"RuT5-RACE-tf-1/checkpoint-65760\").to(tt.device(\"cuda:0\"))\n",
    "\n",
    "# metrics:\n",
    "bleu4 = evaluate.load(\"bleu\")\n",
    "sbleu = evaluate.load(\"sacrebleu\")\n",
    "rouge = evaluate.load(\"rouge\")\n",
    "meteor = evaluate.load(\"meteor\")"
   ]
  },
  {
   "cell_type": "code",
   "execution_count": 7,
   "id": "0208ffff-dfc8-4aac-8487-60115cd37ced",
   "metadata": {},
   "outputs": [],
   "source": [
    "def model_predict(text: str, model: PreTrainedModel) -> str:\n",
    "    input_ = tokenizer([text], return_tensors=\"pt\")\n",
    "    output = model.generate(\n",
    "        input_[\"input_ids\"].to(tt.device(\"cuda:0\")),\n",
    "        max_length=81\n",
    "    )\n",
    "    return tokenizer.batch_decode(output)[0].replace(\"<pad>\", \" \").replace(\"</s>\", \" \").strip()"
   ]
  },
  {
   "cell_type": "code",
   "execution_count": 14,
   "id": "e6e32e32-bf9a-453f-baf9-b0f0f6314568",
   "metadata": {},
   "outputs": [],
   "source": [
    "predict_model = model_predict(s1, model)"
   ]
  },
  {
   "cell_type": "code",
   "execution_count": 9,
   "id": "b4c6eea9-c1a2-47c4-bdd7-3957fc56c1e6",
   "metadata": {},
   "outputs": [
    {
     "data": {
      "text/plain": [
       "'\"Старый артиллерист отвел мальчика в сторону.\"; \"Мальчики, которые были сбиты в лодке, не слышали крика старого артиллериста.\"; \"История произошла в день, когда мы увидели акулу.\"'"
      ]
     },
     "execution_count": 9,
     "metadata": {},
     "output_type": "execute_result"
    }
   ],
   "source": [
    "predict_model"
   ]
  },
  {
   "cell_type": "code",
   "execution_count": 15,
   "id": "e64e48e5-72c8-40cc-aa42-9a8416c2ce67",
   "metadata": {},
   "outputs": [],
   "source": [
    "s2 = \"\"\"Наш корабль стоял на якоре у берега Африки. День был прекрасный, с моря дул свежий ветер; но к вечеру погода изменилась: стало душно и точно из топленной печки несло на нас горячим воздухом с пустыни Сахары. Перед закатом солнца капитан вышел на палубу, крикнул: «Купаться!» — и в одну минуту матросы попрыгали в воду, спустили в воду парус, привязали его и в парусе устроили купальню.\n",
    "На корабле с нами было два мальчика. Мальчики первые попрыгали в воду, но им тесно было в парусе, они вздумали плавать наперегонки в открытом море.\n",
    "Оба, как ящерицы, вытягивались в воде и что было силы поплыли к тому месту, где был бочонок над якорем.\n",
    "Один мальчик сначала перегнал товарища, но потом стал отставать. Отец мальчика, старый артиллерист, стоял на палубе и любовался на своего сынишку. Когда сын стал отставать, отец крикнул ему: «Не выдавай! Понатужься!»\n",
    "Вдруг с палубы кто-то крикнул: «Акула!» — и все мы увидали в воде спину морского чудовища.\n",
    "Акула плыла прямо на мальчиков.\n",
    "— Назад! Назад! Вернитесь! Акула! — закричал артиллерист. Но ребята не слыхали его, плыли дальше, смеялись и кричали еще веселее и громче прежнего.\n",
    "Артиллерист, бледный как полотно, не шевелясь, смотрел на детей.\n",
    "Матросы спустили лодку, бросились в нее и, сгибая весла, понеслись что было силы к мальчикам; но они были еще далеко от них, когда акула уже была не дальше 20-ти шагов.\n",
    "Мальчики сначала не слыхали того, что им кричали, и не видали акулы; но потом один из них оглянулся, и мы все услыхали пронзительный визг, и мальчики поплыли в разные стороны.\n",
    "Визг этот как будто разбудил артиллериста. Он сорвался с места и побежал к пушкам. Он повернул хобот, прилег к пушке, прицелился и взял фитиль.\n",
    "Мы все, сколько нас ни было на корабле, замерли от страха и ждали, что будет.\n",
    "Раздался выстрел, и мы увидали, что артиллерист упал подле пушки и закрыл лицо руками. Что сделалось с акулой и с мальчиками, мы не видали, потому что на минуту дым застлал нам глаза.\n",
    "Но когда дым разошелся над водою, со всех сторон послышался сначала тихий ропот, потом ропот этот стал сильнее, и, наконец, со всех сторон раздался громкий, радостный крик.\n",
    "Старый артиллерист открыл лицо, поднялся и посмотрел на море.\n",
    "По волнам колыхалось желтое брюхо мертвой акулы. В несколько минут лодка подплыла к мальчикам и привезла их на корабль. ВОПРОС: Какое высказывание НЕ СООТВЕТСТВУЕТ тексту? ПРАВИЛЬНЫЙ ОТВЕТ: \"Храбрость помогла мальчикам спастись от акулы\" НЕПРАВИЛЬНЫЕ ВАРИАНТЫ ОТВЕТА:\"\"\""
   ]
  },
  {
   "cell_type": "code",
   "execution_count": 16,
   "id": "b9a0f7c5-0136-4d72-b504-d4a996b19a05",
   "metadata": {},
   "outputs": [],
   "source": [
    "predict_model = model_predict(s2, model)"
   ]
  },
  {
   "cell_type": "code",
   "execution_count": 17,
   "id": "7a0c9a10-2be0-4db9-985c-d0e6cb8455bd",
   "metadata": {},
   "outputs": [
    {
     "data": {
      "text/plain": [
       "'\"На корабле было много акул.\"; \"На корабле было много акул.\"; \"Капитан знал, что акула напали не на мальчиков, а на корабль.\"'"
      ]
     },
     "execution_count": 17,
     "metadata": {},
     "output_type": "execute_result"
    }
   ],
   "source": [
    "predict_model"
   ]
  },
  {
   "cell_type": "code",
   "execution_count": null,
   "id": "72a5f38d-9b7b-40ef-9c85-7fad054ae8d7",
   "metadata": {},
   "outputs": [],
   "source": []
  }
 ],
 "metadata": {
  "kernelspec": {
   "display_name": "Python 3 (ipykernel)",
   "language": "python",
   "name": "python3"
  },
  "language_info": {
   "codemirror_mode": {
    "name": "ipython",
    "version": 3
   },
   "file_extension": ".py",
   "mimetype": "text/x-python",
   "name": "python",
   "nbconvert_exporter": "python",
   "pygments_lexer": "ipython3",
   "version": "3.10.12"
  }
 },
 "nbformat": 4,
 "nbformat_minor": 5
}
